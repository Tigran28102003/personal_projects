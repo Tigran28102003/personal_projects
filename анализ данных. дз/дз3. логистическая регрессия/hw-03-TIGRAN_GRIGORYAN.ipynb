{
 "cells": [
  {
   "cell_type": "markdown",
   "id": "911da6e0",
   "metadata": {
    "pycharm": {
     "name": "#%% md\n"
    }
   },
   "source": [
    "<center>\n",
    "<img src=\"https://i.ibb.co/Ycs11Fg/meme.jpg\">\n",
    "</center>\n",
    "\n",
    "# Андан на экономе: домашнее задание 3\n",
    "## Задача классификации"
   ]
  },
  {
   "cell_type": "markdown",
   "id": "c2e40eb8",
   "metadata": {
    "pycharm": {
     "name": "#%% md\n"
    }
   },
   "source": [
    "**ФИО:** _Григорян Тигран Артурович_\n"
   ]
  },
  {
   "cell_type": "markdown",
   "id": "1cfbbcc0",
   "metadata": {
    "pycharm": {
     "name": "#%% md\n"
    }
   },
   "source": [
    "## Общая информация\n",
    "\n",
    "\n",
    "__Дата выдачи:__ 14.04.2023\n",
    "\n",
    "__Мягкий дедлайн:__ 23:59MSK 07.05.2023\n",
    "\n",
    "__Жесткий дедлайн:__ 23:59MSK 14.05.2023"
   ]
  },
  {
   "cell_type": "markdown",
   "id": "8d84cd39",
   "metadata": {
    "pycharm": {
     "name": "#%% md\n"
    }
   },
   "source": [
    "## Оценивание и штрафы\n",
    "\n",
    "Каждая из задач имеет определенную «стоимость» (указана в скобках около задачи). Максимально допустимая оценка за работу — 100 баллов. За каждый день просрочки после мягкого дедлайна снимается 10 баллов. После жёсткого дедлайна работы не принимаются. Даже при опозданиии на одну секунду. Сдавайте работы заранее.\n",
    "\n",
    "Мягкий дедлайн можно отодвинуть без потери баллов на 1,2 или 3 дня. Суммарно для откладывания в запасе есть три дня. Можно отодвинуть один дедлайн на три дня, а можно три дедлайна подвинуть на один день. Распоряжаться этими днями студент может как угодно. Жёсткий дедлайн, при этом, не меняется. Если такое произошло, нужно сообщить о сдвиге при сдаче работы.\n",
    "\n",
    "Задание выполняется самостоятельно. «Похожие» решения считаются плагиатом и все задействованные студенты (в том числе те, у кого списали) не могут получить за него больше 0 баллов. Если вы нашли решение какого-то из заданий (или его часть) в открытом источнике, необходимо указать ссылку на этот источник (скорее всего вы будете не единственным, кто это нашел, поэтому чтобы исключить подозрение в плагиате, необходима ссылка на источник).\n",
    "\n",
    "Любой из студентов может быть вызван на защиту любого домашнего задания. В таком случае итоговая оценка студента определяется в результате защиты.\n",
    "\n",
    "> За отсутствие названий графиков и подписей к осям могут снижаться баллы. Все картинки должны быть самодостаточны и визуально удобны для восприятия, так чтобы не нужно было смотреть ваш код или знать задание, чтобы понять что на них изображено. \n",
    "\n",
    "> Выводы должны быть релевантными. Не забывайте их писать. Если в вопросе требуется ответ словами, а его нет, вы будете терять довольно много баллов.\n",
    "\n",
    "> Фиксируйте все seed'ы, random_state'ы и тд - ваш код должен быть воспроизводим с теми же результатами."
   ]
  },
  {
   "cell_type": "markdown",
   "id": "9c9727df",
   "metadata": {
    "pycharm": {
     "name": "#%% md\n"
    }
   },
   "source": [
    "## Формат сдачи\n",
    "\n",
    "Сам ноутбук называйте в формате hw-03-USERNAME.ipynb, где USERNAME — ваши фамилия и имя. Файл сдаётся в anytask."
   ]
  },
  {
   "cell_type": "markdown",
   "id": "7b55058a",
   "metadata": {
    "pycharm": {
     "name": "#%% md\n"
    }
   },
   "source": [
    "## Импорт необходимых библиотек "
   ]
  },
  {
   "cell_type": "markdown",
   "id": "f7deb1cc",
   "metadata": {
    "pycharm": {
     "name": "#%% md\n"
    }
   },
   "source": [
    "Импортируйте все используемые библиотеки здесь."
   ]
  },
  {
   "cell_type": "code",
   "execution_count": 1,
   "id": "9311e523",
   "metadata": {
    "pycharm": {
     "is_executing": true,
     "name": "#%%\n"
    }
   },
   "outputs": [],
   "source": [
    "import numpy as np\n",
    "import pandas as pd\n",
    "\n",
    "from sklearn.preprocessing import MinMaxScaler \n",
    "from sklearn.model_selection import train_test_split, GridSearchCV, RandomizedSearchCV\n",
    "from sklearn.linear_model import LogisticRegression\n",
    "from sklearn.decomposition import PCA\n",
    "from sklearn.metrics import roc_auc_score, accuracy_score, precision_score, recall_score, f1_score, fbeta_score\n",
    "from sklearn.metrics import roc_curve, confusion_matrix, average_precision_score, precision_recall_curve\n",
    "from sklearn.ensemble import RandomForestClassifier\n",
    "\n",
    "\n",
    "import matplotlib.pyplot as plt\n",
    "import seaborn as sns\n",
    "import plotly.express as px\n",
    "\n",
    "# Отключение некоторых лишних предупреждений\n",
    "import warnings\n",
    "warnings.filterwarnings(\"ignore\")"
   ]
  },
  {
   "cell_type": "markdown",
   "id": "8e5cf1b8",
   "metadata": {
    "pycharm": {
     "name": "#%% md\n"
    }
   },
   "source": [
    "## Задача "
   ]
  },
  {
   "cell_type": "markdown",
   "id": "c6f6920e",
   "metadata": {
    "pycharm": {
     "name": "#%% md\n"
    }
   },
   "source": [
    "В данном задании вам необходимо построить предсказательную модель, определяющую пол клиента по его банковским транзакциям.\n",
    "\n",
    "Вам доступны 2 файла:\n",
    "* __transaction.csv__ - файл с транзакциями, колонки:\n",
    "    * user_id - целочисленный идентификатор пользователя\n",
    "    * dt - дата и время совершения транзации, принцип кодирования: \"DAY TIME\"\n",
    "        * DAY - порядковый день транзации с начала сбора данных\n",
    "        * TIME - время в формате hh:mm:ss\n",
    "    * type - тип (категория) совершаемой транзакции\n",
    "    * value - сумма транзакции\n",
    "    \n",
    "* __gender.csv__ - файл с данными о полах клиентов.\n",
    "    * user_id - целочисленный идентификатор пользователя\n",
    "    * gender - целевая переменная, закодированная лейблами 0 и 1. Это сделано:\n",
    "        * a) для удобства\n",
    "        * б) для избежания холиваров о правильности исходных меток \n",
    "\n",
    "Но если вы вдруг захотите похоливарить о том, что метки только две - то заметьте, что о полноте данных мы тоже не утверждаем."
   ]
  },
  {
   "cell_type": "markdown",
   "id": "56da0228",
   "metadata": {
    "pycharm": {
     "name": "#%% md\n"
    }
   },
   "source": [
    "# Часть 1: минималочка [макс 20 баллов]"
   ]
  },
  {
   "cell_type": "markdown",
   "id": "cb568469",
   "metadata": {
    "pycharm": {
     "name": "#%% md\n"
    }
   },
   "source": [
    "В этой части мы с вами попробуем построить самую простую модель для предсказания.\n",
    "\n",
    "Как мы с вами увидим: главная сложность - правильная подготовка данных. В таких задачах то, как именно вы преобразуете данные для обучения модели и будет во много определять её качество.\n",
    "\n",
    "В этой части мы сделаем простое преобразование данных путём простой агрегации данных о величине транзакций. "
   ]
  },
  {
   "cell_type": "markdown",
   "id": "3d8c2bf8",
   "metadata": {
    "pycharm": {
     "name": "#%% md\n"
    }
   },
   "source": [
    "## Загрузка данных [5 баллов] "
   ]
  },
  {
   "cell_type": "markdown",
   "id": "b324b6bb",
   "metadata": {
    "pycharm": {
     "name": "#%% md\n"
    }
   },
   "source": [
    "Скачайте данные для задачи с Яндекс.Диска:\n",
    "https://disk.yandex.ru/d/DGy6bbLaMZmrQg.\n",
    "\n",
    "Загрузите файлы с транзакциями и целевой меткой в pd.DataFrame.\n",
    "\n",
    "__Внимание__: у файла transactions.csv колоночный разделитель - точка с запятой \";\""
   ]
  },
  {
   "cell_type": "code",
   "execution_count": 2,
   "id": "12a08af9",
   "metadata": {
    "pycharm": {
     "name": "#%%\n"
    }
   },
   "outputs": [
    {
     "data": {
      "text/html": [
       "<div>\n",
       "<style scoped>\n",
       "    .dataframe tbody tr th:only-of-type {\n",
       "        vertical-align: middle;\n",
       "    }\n",
       "\n",
       "    .dataframe tbody tr th {\n",
       "        vertical-align: top;\n",
       "    }\n",
       "\n",
       "    .dataframe thead th {\n",
       "        text-align: right;\n",
       "    }\n",
       "</style>\n",
       "<table border=\"1\" class=\"dataframe\">\n",
       "  <thead>\n",
       "    <tr style=\"text-align: right;\">\n",
       "      <th></th>\n",
       "      <th>user_id</th>\n",
       "      <th>gender</th>\n",
       "    </tr>\n",
       "  </thead>\n",
       "  <tbody>\n",
       "    <tr>\n",
       "      <th>0</th>\n",
       "      <td>6740969</td>\n",
       "      <td>1.0</td>\n",
       "    </tr>\n",
       "    <tr>\n",
       "      <th>1</th>\n",
       "      <td>36599781</td>\n",
       "      <td>0.0</td>\n",
       "    </tr>\n",
       "    <tr>\n",
       "      <th>2</th>\n",
       "      <td>91453656</td>\n",
       "      <td>1.0</td>\n",
       "    </tr>\n",
       "    <tr>\n",
       "      <th>3</th>\n",
       "      <td>17431962</td>\n",
       "      <td>1.0</td>\n",
       "    </tr>\n",
       "    <tr>\n",
       "      <th>4</th>\n",
       "      <td>72568668</td>\n",
       "      <td>1.0</td>\n",
       "    </tr>\n",
       "    <tr>\n",
       "      <th>...</th>\n",
       "      <td>...</td>\n",
       "      <td>...</td>\n",
       "    </tr>\n",
       "    <tr>\n",
       "      <th>8395</th>\n",
       "      <td>93715144</td>\n",
       "      <td>1.0</td>\n",
       "    </tr>\n",
       "    <tr>\n",
       "      <th>8396</th>\n",
       "      <td>51502229</td>\n",
       "      <td>0.0</td>\n",
       "    </tr>\n",
       "    <tr>\n",
       "      <th>8397</th>\n",
       "      <td>77655748</td>\n",
       "      <td>1.0</td>\n",
       "    </tr>\n",
       "    <tr>\n",
       "      <th>8398</th>\n",
       "      <td>87819773</td>\n",
       "      <td>1.0</td>\n",
       "    </tr>\n",
       "    <tr>\n",
       "      <th>8399</th>\n",
       "      <td>14178332</td>\n",
       "      <td>1.0</td>\n",
       "    </tr>\n",
       "  </tbody>\n",
       "</table>\n",
       "<p>8400 rows × 2 columns</p>\n",
       "</div>"
      ],
      "text/plain": [
       "       user_id  gender\n",
       "0      6740969     1.0\n",
       "1     36599781     0.0\n",
       "2     91453656     1.0\n",
       "3     17431962     1.0\n",
       "4     72568668     1.0\n",
       "...        ...     ...\n",
       "8395  93715144     1.0\n",
       "8396  51502229     0.0\n",
       "8397  77655748     1.0\n",
       "8398  87819773     1.0\n",
       "8399  14178332     1.0\n",
       "\n",
       "[8400 rows x 2 columns]"
      ]
     },
     "execution_count": 2,
     "metadata": {},
     "output_type": "execute_result"
    }
   ],
   "source": [
    "# подгружаем датасет с гендерами клиентов\n",
    "\n",
    "df_gender = pd.read_csv('data/gender.csv', sep=',')\n",
    "df_gender"
   ]
  },
  {
   "cell_type": "code",
   "execution_count": 3,
   "id": "678f254c",
   "metadata": {
    "pycharm": {
     "is_executing": true,
     "name": "#%%\n"
    }
   },
   "outputs": [
    {
     "data": {
      "text/html": [
       "<div>\n",
       "<style scoped>\n",
       "    .dataframe tbody tr th:only-of-type {\n",
       "        vertical-align: middle;\n",
       "    }\n",
       "\n",
       "    .dataframe tbody tr th {\n",
       "        vertical-align: top;\n",
       "    }\n",
       "\n",
       "    .dataframe thead th {\n",
       "        text-align: right;\n",
       "    }\n",
       "</style>\n",
       "<table border=\"1\" class=\"dataframe\">\n",
       "  <thead>\n",
       "    <tr style=\"text-align: right;\">\n",
       "      <th></th>\n",
       "      <th>user_id</th>\n",
       "      <th>dt</th>\n",
       "      <th>type</th>\n",
       "      <th>value</th>\n",
       "    </tr>\n",
       "  </thead>\n",
       "  <tbody>\n",
       "    <tr>\n",
       "      <th>0</th>\n",
       "      <td>39026145</td>\n",
       "      <td>0 10:23:26</td>\n",
       "      <td>Звонки с использованием телефонов, считывающих...</td>\n",
       "      <td>2695.099</td>\n",
       "    </tr>\n",
       "    <tr>\n",
       "      <th>1</th>\n",
       "      <td>39026145</td>\n",
       "      <td>6 07:08:31</td>\n",
       "      <td>Звонки с использованием телефонов, считывающих...</td>\n",
       "      <td>2358.212</td>\n",
       "    </tr>\n",
       "    <tr>\n",
       "      <th>2</th>\n",
       "      <td>39026145</td>\n",
       "      <td>8 07:06:10</td>\n",
       "      <td>Звонки с использованием телефонов, считывающих...</td>\n",
       "      <td>2807.395</td>\n",
       "    </tr>\n",
       "    <tr>\n",
       "      <th>3</th>\n",
       "      <td>39026145</td>\n",
       "      <td>11 08:49:03</td>\n",
       "      <td>Звонки с использованием телефонов, считывающих...</td>\n",
       "      <td>2695.099</td>\n",
       "    </tr>\n",
       "    <tr>\n",
       "      <th>4</th>\n",
       "      <td>39026145</td>\n",
       "      <td>11 14:12:08</td>\n",
       "      <td>Звонки с использованием телефонов, считывающих...</td>\n",
       "      <td>2695.099</td>\n",
       "    </tr>\n",
       "    <tr>\n",
       "      <th>...</th>\n",
       "      <td>...</td>\n",
       "      <td>...</td>\n",
       "      <td>...</td>\n",
       "      <td>...</td>\n",
       "    </tr>\n",
       "    <tr>\n",
       "      <th>2282462</th>\n",
       "      <td>71902723</td>\n",
       "      <td>290 15:12:09</td>\n",
       "      <td>Агенты и менеджеры по аренде недвижимости</td>\n",
       "      <td>2133.620</td>\n",
       "    </tr>\n",
       "    <tr>\n",
       "      <th>2282463</th>\n",
       "      <td>71942984</td>\n",
       "      <td>248 00:00:00</td>\n",
       "      <td>Агенты и менеджеры по аренде недвижимости</td>\n",
       "      <td>1870.848</td>\n",
       "    </tr>\n",
       "    <tr>\n",
       "      <th>2282464</th>\n",
       "      <td>71942984</td>\n",
       "      <td>375 00:00:00</td>\n",
       "      <td>Агенты и менеджеры по аренде недвижимости</td>\n",
       "      <td>2466.016</td>\n",
       "    </tr>\n",
       "    <tr>\n",
       "      <th>2282465</th>\n",
       "      <td>74289663</td>\n",
       "      <td>27 00:00:00</td>\n",
       "      <td>Агентства по аренде автомобилей</td>\n",
       "      <td>1445.831</td>\n",
       "    </tr>\n",
       "    <tr>\n",
       "      <th>2282466</th>\n",
       "      <td>74289663</td>\n",
       "      <td>42 00:00:00</td>\n",
       "      <td>Агентства по аренде автомобилей</td>\n",
       "      <td>2386.870</td>\n",
       "    </tr>\n",
       "  </tbody>\n",
       "</table>\n",
       "<p>2282467 rows × 4 columns</p>\n",
       "</div>"
      ],
      "text/plain": [
       "          user_id            dt  \\\n",
       "0        39026145    0 10:23:26   \n",
       "1        39026145    6 07:08:31   \n",
       "2        39026145    8 07:06:10   \n",
       "3        39026145   11 08:49:03   \n",
       "4        39026145   11 14:12:08   \n",
       "...           ...           ...   \n",
       "2282462  71902723  290 15:12:09   \n",
       "2282463  71942984  248 00:00:00   \n",
       "2282464  71942984  375 00:00:00   \n",
       "2282465  74289663   27 00:00:00   \n",
       "2282466  74289663   42 00:00:00   \n",
       "\n",
       "                                                      type     value  \n",
       "0        Звонки с использованием телефонов, считывающих...  2695.099  \n",
       "1        Звонки с использованием телефонов, считывающих...  2358.212  \n",
       "2        Звонки с использованием телефонов, считывающих...  2807.395  \n",
       "3        Звонки с использованием телефонов, считывающих...  2695.099  \n",
       "4        Звонки с использованием телефонов, считывающих...  2695.099  \n",
       "...                                                    ...       ...  \n",
       "2282462          Агенты и менеджеры по аренде недвижимости  2133.620  \n",
       "2282463          Агенты и менеджеры по аренде недвижимости  1870.848  \n",
       "2282464          Агенты и менеджеры по аренде недвижимости  2466.016  \n",
       "2282465                    Агентства по аренде автомобилей  1445.831  \n",
       "2282466                    Агентства по аренде автомобилей  2386.870  \n",
       "\n",
       "[2282467 rows x 4 columns]"
      ]
     },
     "execution_count": 3,
     "metadata": {},
     "output_type": "execute_result"
    }
   ],
   "source": [
    "# подгружаем датасет с инфой о том что, из какой категории и во сколько покупал тот или иной клиент  \n",
    "\n",
    "df_tr = pd.read_csv('data/transactions.csv', sep=';')\n",
    "df_tr"
   ]
  },
  {
   "cell_type": "markdown",
   "id": "ad3a83c9",
   "metadata": {
    "pycharm": {
     "name": "#%% md\n"
    }
   },
   "source": [
    "## Подготовка данных [10 баллов] \n",
    "\n",
    "Для данной задачи необходимо как-то собрать данные для каждого пользователя в один вектор (строку таблицы). Сейчас, как вы можете увидеть, в таблице с данными одному пользователю может соответствовать много строк (каждая операция - отдельная строка).\n",
    "\n",
    "Таким образом, необходима агрегация данных - это можно сделать множеством разных способов."
   ]
  },
  {
   "cell_type": "markdown",
   "id": "567817e8",
   "metadata": {
    "pycharm": {
     "name": "#%% md\n"
    }
   },
   "source": [
    "### Агрегация "
   ]
  },
  {
   "cell_type": "markdown",
   "id": "e3c812ef",
   "metadata": {
    "pycharm": {
     "name": "#%% md\n"
    }
   },
   "source": [
    "Произведите простую агрегацию данных и для каждого пользователя в качестве признаков получите сумму, среднее и стандартное отклонение величины его транзакций. \n",
    "\n",
    "Так же добавите для каждого пользователя колонку с таргетом.\n",
    "\n",
    "По итогу вы должны получить таблицу с колонками:\n",
    "* user_id\n",
    "* value_sum\n",
    "* value_mean\n",
    "* value_std\n",
    "* gender"
   ]
  },
  {
   "cell_type": "code",
   "execution_count": 4,
   "id": "fae2c4e0",
   "metadata": {
    "pycharm": {
     "name": "#%%\n"
    }
   },
   "outputs": [
    {
     "data": {
      "text/html": [
       "<div>\n",
       "<style scoped>\n",
       "    .dataframe tbody tr th:only-of-type {\n",
       "        vertical-align: middle;\n",
       "    }\n",
       "\n",
       "    .dataframe tbody tr th {\n",
       "        vertical-align: top;\n",
       "    }\n",
       "\n",
       "    .dataframe thead th {\n",
       "        text-align: right;\n",
       "    }\n",
       "</style>\n",
       "<table border=\"1\" class=\"dataframe\">\n",
       "  <thead>\n",
       "    <tr style=\"text-align: right;\">\n",
       "      <th></th>\n",
       "      <th>user_id</th>\n",
       "      <th>value_sum</th>\n",
       "      <th>value_mean</th>\n",
       "      <th>value_std</th>\n",
       "      <th>gender</th>\n",
       "    </tr>\n",
       "  </thead>\n",
       "  <tbody>\n",
       "    <tr>\n",
       "      <th>0</th>\n",
       "      <td>6740969</td>\n",
       "      <td>996602.640</td>\n",
       "      <td>2171.247582</td>\n",
       "      <td>718.691164</td>\n",
       "      <td>1.0</td>\n",
       "    </tr>\n",
       "    <tr>\n",
       "      <th>1</th>\n",
       "      <td>36599781</td>\n",
       "      <td>2227630.566</td>\n",
       "      <td>2175.420475</td>\n",
       "      <td>645.511317</td>\n",
       "      <td>0.0</td>\n",
       "    </tr>\n",
       "    <tr>\n",
       "      <th>2</th>\n",
       "      <td>91453656</td>\n",
       "      <td>137064.806</td>\n",
       "      <td>2363.186310</td>\n",
       "      <td>684.686030</td>\n",
       "      <td>1.0</td>\n",
       "    </tr>\n",
       "    <tr>\n",
       "      <th>3</th>\n",
       "      <td>17431962</td>\n",
       "      <td>1112047.619</td>\n",
       "      <td>2118.185941</td>\n",
       "      <td>717.894125</td>\n",
       "      <td>1.0</td>\n",
       "    </tr>\n",
       "    <tr>\n",
       "      <th>4</th>\n",
       "      <td>72568668</td>\n",
       "      <td>533183.043</td>\n",
       "      <td>1974.752011</td>\n",
       "      <td>745.930038</td>\n",
       "      <td>1.0</td>\n",
       "    </tr>\n",
       "    <tr>\n",
       "      <th>...</th>\n",
       "      <td>...</td>\n",
       "      <td>...</td>\n",
       "      <td>...</td>\n",
       "      <td>...</td>\n",
       "      <td>...</td>\n",
       "    </tr>\n",
       "    <tr>\n",
       "      <th>8395</th>\n",
       "      <td>93715144</td>\n",
       "      <td>115187.587</td>\n",
       "      <td>2258.580137</td>\n",
       "      <td>582.322640</td>\n",
       "      <td>1.0</td>\n",
       "    </tr>\n",
       "    <tr>\n",
       "      <th>8396</th>\n",
       "      <td>51502229</td>\n",
       "      <td>588940.268</td>\n",
       "      <td>2126.138152</td>\n",
       "      <td>648.121314</td>\n",
       "      <td>0.0</td>\n",
       "    </tr>\n",
       "    <tr>\n",
       "      <th>8397</th>\n",
       "      <td>77655748</td>\n",
       "      <td>1997426.562</td>\n",
       "      <td>2432.919077</td>\n",
       "      <td>515.688715</td>\n",
       "      <td>1.0</td>\n",
       "    </tr>\n",
       "    <tr>\n",
       "      <th>8398</th>\n",
       "      <td>87819773</td>\n",
       "      <td>860945.168</td>\n",
       "      <td>2084.612998</td>\n",
       "      <td>737.384287</td>\n",
       "      <td>1.0</td>\n",
       "    </tr>\n",
       "    <tr>\n",
       "      <th>8399</th>\n",
       "      <td>14178332</td>\n",
       "      <td>316941.869</td>\n",
       "      <td>1980.886681</td>\n",
       "      <td>873.789887</td>\n",
       "      <td>1.0</td>\n",
       "    </tr>\n",
       "  </tbody>\n",
       "</table>\n",
       "<p>8400 rows × 5 columns</p>\n",
       "</div>"
      ],
      "text/plain": [
       "       user_id    value_sum   value_mean   value_std  gender\n",
       "0      6740969   996602.640  2171.247582  718.691164     1.0\n",
       "1     36599781  2227630.566  2175.420475  645.511317     0.0\n",
       "2     91453656   137064.806  2363.186310  684.686030     1.0\n",
       "3     17431962  1112047.619  2118.185941  717.894125     1.0\n",
       "4     72568668   533183.043  1974.752011  745.930038     1.0\n",
       "...        ...          ...          ...         ...     ...\n",
       "8395  93715144   115187.587  2258.580137  582.322640     1.0\n",
       "8396  51502229   588940.268  2126.138152  648.121314     0.0\n",
       "8397  77655748  1997426.562  2432.919077  515.688715     1.0\n",
       "8398  87819773   860945.168  2084.612998  737.384287     1.0\n",
       "8399  14178332   316941.869  1980.886681  873.789887     1.0\n",
       "\n",
       "[8400 rows x 5 columns]"
      ]
     },
     "execution_count": 4,
     "metadata": {},
     "output_type": "execute_result"
    }
   ],
   "source": [
    "#группируем датасет по столбцу user_id, применив необходиыме функции для вычесления показателей\n",
    "\n",
    "df_tr1 = df_tr.groupby('user_id').agg(['sum', 'mean', 'std'])\n",
    "\n",
    "#присоедини то, что получили выше к датасету с гендерами\n",
    "\n",
    "df_tr2 = df_gender.join(df_tr1, on='user_id')\n",
    "\n",
    "\n",
    "# называем колонки и ставим их в правильном порядке\n",
    "\n",
    "df_tr2.rename(\n",
    "    columns={('value',  'sum'): 'value_sum', \n",
    "             ('value', 'mean'): 'value_mean', \n",
    "             ('value',  'std'): 'value_std'}, \n",
    "    inplace=True\n",
    ")\n",
    "\n",
    "cols = ['user_id', 'value_sum', 'value_mean', 'value_std', 'gender']\n",
    "df_tr2 = df_tr2[cols]\n",
    "\n",
    "df_tr2"
   ]
  },
  {
   "cell_type": "code",
   "execution_count": 5,
   "id": "b19e61db",
   "metadata": {},
   "outputs": [],
   "source": [
    "# заполняет пустые ячейки нулями\n",
    "\n",
    "df_tr2 = df_tr2.fillna(0)"
   ]
  },
  {
   "cell_type": "markdown",
   "id": "194e73a7",
   "metadata": {
    "pycharm": {
     "name": "#%% md\n"
    }
   },
   "source": [
    "### Отложенная выборка "
   ]
  },
  {
   "cell_type": "markdown",
   "id": "d3f431ee",
   "metadata": {
    "pycharm": {
     "name": "#%% md\n"
    }
   },
   "source": [
    "Получите полный список пользователей и разделите их на два списка:\n",
    "* тренировочный список пользователей (80%)\n",
    "* тестовый список пользователей (20%)"
   ]
  },
  {
   "cell_type": "markdown",
   "id": "646a73cf",
   "metadata": {
    "pycharm": {
     "name": "#%% md\n"
    }
   },
   "source": [
    "__Важное замечание__: Далее во всех пунктах, где вам нужно провалидировать (оценить) получившуюся модель исползуйте данные только для этих тестовых пользователей.\n",
    "\n",
    "Обучать все модели, естественно, нужно только на данных пользователей из обучающего списка."
   ]
  },
  {
   "cell_type": "code",
   "execution_count": 6,
   "id": "a74ea5aa",
   "metadata": {
    "pycharm": {
     "name": "#%%\n"
    }
   },
   "outputs": [
    {
     "name": "stdout",
     "output_type": "stream",
     "text": [
      "quantity of training examples: 6720\n",
      "quantity of testing examples: 1680\n"
     ]
    }
   ],
   "source": [
    "# делим на выборки\n",
    "training_data, testing_data = train_test_split(df_tr2, test_size=0.2, random_state=1)\n",
    "\n",
    "# глянем на количество элементов в выборках\n",
    "print(f\"quantity of training examples: {training_data.shape[0]}\")\n",
    "print(f\"quantity of testing examples: {testing_data.shape[0]}\")"
   ]
  },
  {
   "cell_type": "markdown",
   "id": "c4e54aa8",
   "metadata": {
    "pycharm": {
     "name": "#%% md\n"
    }
   },
   "source": [
    "Для нашей задачи получите признаки и целевые метки обучающей и тестовой выборки. "
   ]
  },
  {
   "cell_type": "code",
   "execution_count": 7,
   "id": "e947e769",
   "metadata": {
    "pycharm": {
     "name": "#%%\n"
    }
   },
   "outputs": [],
   "source": [
    "# разделяем У на трейн и тест\n",
    "\n",
    "y_train = training_data['gender'].to_numpy()\n",
    "y_test = testing_data['gender'].to_numpy()\n",
    "\n",
    "# разделяем Х на трейн и тест\n",
    "\n",
    "X_train = training_data.drop('gender', axis=1).to_numpy()\n",
    "X_test = testing_data.drop('gender', axis=1).to_numpy()"
   ]
  },
  {
   "cell_type": "markdown",
   "id": "c043cbb1",
   "metadata": {},
   "source": [
    "_на всякий случай проверим количество 1 и 0, дабы не было сильного дизлабанса и не пришлось балансировать по колонке 'gender'_"
   ]
  },
  {
   "cell_type": "code",
   "execution_count": 8,
   "id": "c86c6b5b",
   "metadata": {},
   "outputs": [
    {
     "data": {
      "image/png": "[encoded data removed]",
      "text/plain": [
       "<Figure size 640x480 with 1 Axes>"
      ]
     },
     "metadata": {},
     "output_type": "display_data"
    }
   ],
   "source": [
    "df_tr2['gender'].astype(int).hist();"
   ]
  },
  {
   "cell_type": "markdown",
   "id": "852a5e0c",
   "metadata": {
    "pycharm": {
     "name": "#%% md\n"
    }
   },
   "source": [
    "## Обучение и оценка модели [5 баллов] "
   ]
  },
  {
   "cell_type": "markdown",
   "id": "0d3a14bb",
   "metadata": {
    "pycharm": {
     "name": "#%% md\n"
    }
   },
   "source": [
    "Обучите модель логистической регрессии с дефолтными параметрами.\n",
    "\n",
    "Получите предсказания вероятностей первого класса."
   ]
  },
  {
   "cell_type": "code",
   "execution_count": 9,
   "id": "9b458875",
   "metadata": {
    "pycharm": {
     "name": "#%%\n"
    }
   },
   "outputs": [
    {
     "data": {
      "text/plain": [
       "0.5375"
      ]
     },
     "execution_count": 9,
     "metadata": {},
     "output_type": "execute_result"
    }
   ],
   "source": [
    "# обучили модель логистической регрессии\n",
    "\n",
    "model = LogisticRegression()\n",
    "model.fit(X_train, y_train)\n",
    "model.score(X_test, y_test)"
   ]
  },
  {
   "cell_type": "code",
   "execution_count": 10,
   "id": "77285000",
   "metadata": {},
   "outputs": [
    {
     "data": {
      "text/plain": [
       "array([0.46236167, 0.4563562 , 0.49828521, ..., 0.49068333, 0.45112885,\n",
       "       0.41960675])"
      ]
     },
     "execution_count": 10,
     "metadata": {},
     "output_type": "execute_result"
    }
   ],
   "source": [
    "# получаем предсказангие вероятностей первого класса с помощью predict_proba()\n",
    "\n",
    "p_pred = model.predict_proba(X_test)[:, 1]\n",
    "p_pred"
   ]
  },
  {
   "cell_type": "code",
   "execution_count": 11,
   "id": "39ed8a0a",
   "metadata": {},
   "outputs": [
    {
     "data": {
      "text/plain": [
       "array([0, 0, 0, ..., 0, 0, 0])"
      ]
     },
     "execution_count": 11,
     "metadata": {},
     "output_type": "execute_result"
    }
   ],
   "source": [
    "# предсказываем y\n",
    "\n",
    "t = 0.5 # задали порог\n",
    "y_pred = 1*(p_pred >= t) # отсекаем по порогу \n",
    "y_pred"
   ]
  },
  {
   "cell_type": "code",
   "execution_count": 12,
   "id": "71ec2fff",
   "metadata": {},
   "outputs": [
    {
     "data": {
      "text/plain": [
       "array([[890,  15],\n",
       "       [762,  13]], dtype=int64)"
      ]
     },
     "execution_count": 12,
     "metadata": {},
     "output_type": "execute_result"
    }
   ],
   "source": [
    "# глянем на матрицу ошибок, чтобы примерно понимать, что нас ждет в метриках\n",
    "\n",
    "confusion_matrix(y_test, y_pred)"
   ]
  },
  {
   "cell_type": "markdown",
   "id": "f2345148",
   "metadata": {
    "pycharm": {
     "name": "#%% md\n"
    }
   },
   "source": [
    "### Валидация "
   ]
  },
  {
   "cell_type": "markdown",
   "id": "ee3576b3",
   "metadata": {
    "pycharm": {
     "name": "#%% md\n"
    }
   },
   "source": [
    "Посчитайте ROC_AUC, accuracy, precision, recall для получившихся предсказаний.\n",
    "\n",
    "Для метрик, для которых необходимы метки классов, а не вероятности - используйте порог 0.5.\n",
    "\n",
    "Далее при оценки других моделей приводите эти же метрики (если явно не указано иное)."
   ]
  },
  {
   "cell_type": "code",
   "execution_count": 13,
   "id": "434f611a",
   "metadata": {
    "pycharm": {
     "name": "#%%\n"
    }
   },
   "outputs": [
    {
     "name": "stdout",
     "output_type": "stream",
     "text": [
      "ROC-AUC = 0.48874710390304765\n",
      "Accuracy = 0.5375\n",
      "Precision = 0.4642857142857143\n",
      "Recall = 0.016774193548387096\n"
     ]
    }
   ],
   "source": [
    "# высчитываем все необходимые показатели через встроенные в библиотеку функции\n",
    "\n",
    "roc_auc = roc_auc_score(y_test, p_pred)\n",
    "\n",
    "accuracy = accuracy_score(y_test, y_pred)\n",
    "\n",
    "precision = precision_score(y_test, y_pred)\n",
    "\n",
    "recall = recall_score(y_test, y_pred)\n",
    "\n",
    "print(f'ROC-AUC = {roc_auc}', f'Accuracy = {accuracy}', f'Precision = {precision}', f'Recall = {recall}', sep='\\n')"
   ]
  },
  {
   "cell_type": "code",
   "execution_count": 14,
   "id": "13b5f1cc",
   "metadata": {},
   "outputs": [
    {
     "data": {
      "image/png": "[encoded data removed]",
      "text/plain": [
       "<Figure size 700x700 with 1 Axes>"
      ]
     },
     "metadata": {},
     "output_type": "display_data"
    }
   ],
   "source": [
    "# позаимствуем код у достопочтенного Филиппа, дабы наделать красоты\n",
    "\n",
    "def roc_auc_pic(y_test, y_pred):    \n",
    "    fpr_test, tpr_test, thresholds_test = roc_curve(y_test, p_pred)\n",
    "    roc_auc_test = roc_auc_score(y_test, p_pred)\n",
    "\n",
    "    plt.figure(figsize=(7, 7))\n",
    "    plt.plot(fpr_test, tpr_test, label='Test ROC-AUC {0}'.format(roc_auc_test))\n",
    "    plt.plot([0, 1], [0, 1], '--', color=(0.8, 0.8, 0.8))\n",
    "    plt.xlim([0, 1])\n",
    "    plt.ylim([0, 1])\n",
    "    plt.xlabel('False Positive Rate')\n",
    "    plt.ylabel('True Positive Rate')\n",
    "    plt.legend(loc='lower right');\n",
    "    \n",
    "roc_auc_pic(y_test, p_pred)"
   ]
  },
  {
   "cell_type": "markdown",
   "id": "9c06a7c5",
   "metadata": {
    "pycharm": {
     "name": "#%% md\n"
    }
   },
   "source": [
    "### Вывод"
   ]
  },
  {
   "cell_type": "markdown",
   "id": "6e95c3d8",
   "metadata": {
    "pycharm": {
     "name": "#%% md\n"
    }
   },
   "source": [
    "Как вы оцениваете качество получившейся модели и возможные причины такого качества?\n",
    "\n",
    "__Ваш вывод:__ _модель никакая, надо оптимизировать пока не дооптимизируем. причиной, почему модель дала настолько плохие результаты, может быть то, что мы выбрали неудачные показатели, на которые сложно опираться при прогнозировании. То есть, я хочу сказать, что то совокупное количество денег, которое человек потратил на покупки и то какое стандартное отклонение будет у его трат никак не говорит о его половой принадлежности. Проилюстрирована также ROC-кривая, по результам которой можно судить о том, что данные никуда не годятся, и нужно что-то менять, чем мы и занялись в последующих пунктах. Другие показатели также некудышные_"
   ]
  },
  {
   "cell_type": "markdown",
   "id": "e94a47be",
   "metadata": {
    "pycharm": {
     "name": "#%% md\n"
    }
   },
   "source": [
    "# Часть 2: мб сделаем что-то более серьёзное? [макс 20 баллов]"
   ]
  },
  {
   "cell_type": "markdown",
   "id": "6724dd97",
   "metadata": {
    "pycharm": {
     "name": "#%% md\n"
    }
   },
   "source": [
    "Давайте попробуем улучшить качество решения задачи за счёт другого метода подготовки данных.\n",
    "\n",
    "Ранее мы использовали простое преобразование, когда каждый клиент описывался только 3 значениями.\n",
    "Давайте сделаем что-то более сложное и попробуем добавить больше данных о клиенте для модели."
   ]
  },
  {
   "cell_type": "markdown",
   "id": "c5cf8456",
   "metadata": {
    "pycharm": {
     "name": "#%% md\n"
    }
   },
   "source": [
    "## Подготовка данных [15 баллов]"
   ]
  },
  {
   "cell_type": "markdown",
   "id": "d30f62ce",
   "metadata": {
    "pycharm": {
     "name": "#%% md\n"
    }
   },
   "source": [
    "Воспользуемся тем, что каждая транзакция у нас имеет свой тип - это уж точно более информативно, чем агрегация по всем транзакциям.\n",
    "\n",
    "Создайте сводную таблицу, где для каждого клиента (строка) будут указаны его суммарные траты на каждую категорию (столбец). Таким образом, вы должны получить таблицу с числом строк равным количеству клиентов и числом столбцов - количеству категорий трат. Каждая ячейка должна содержать суммарные траты данного клиента в данной категории.\n",
    "\n",
    "__Подсказка__: у DataFrame есть полезный метод `pivot_table`."
   ]
  },
  {
   "cell_type": "code",
   "execution_count": 15,
   "id": "d361081f",
   "metadata": {
    "pycharm": {
     "name": "#%%\n"
    }
   },
   "outputs": [
    {
     "data": {
      "text/html": [
       "<div>\n",
       "<style scoped>\n",
       "    .dataframe tbody tr th:only-of-type {\n",
       "        vertical-align: middle;\n",
       "    }\n",
       "\n",
       "    .dataframe tbody tr th {\n",
       "        vertical-align: top;\n",
       "    }\n",
       "\n",
       "    .dataframe thead th {\n",
       "        text-align: right;\n",
       "    }\n",
       "</style>\n",
       "<table border=\"1\" class=\"dataframe\">\n",
       "  <thead>\n",
       "    <tr style=\"text-align: right;\">\n",
       "      <th>type</th>\n",
       "      <th>Авиалинии, авиакомпании</th>\n",
       "      <th>Авиалинии, авиакомпании, нигде более не классифицированные</th>\n",
       "      <th>Автобусные линии</th>\n",
       "      <th>Автозапчасти и аксессуары</th>\n",
       "      <th>Автоматизированные бензозаправки</th>\n",
       "      <th>Автомойки</th>\n",
       "      <th>Автошины</th>\n",
       "      <th>Агентства по автотранспортным перевозкам, местные/дальные автогрузоперевозки, компании попереезду и хранению, местная доставка</th>\n",
       "      <th>Агентства по аренде автомобилей</th>\n",
       "      <th>Агенты и менеджеры по аренде недвижимости</th>\n",
       "      <th>...</th>\n",
       "      <th>Фотостудии, фотолаборатории</th>\n",
       "      <th>Химикалии и смежные вещества, не классифицированные ранее</th>\n",
       "      <th>Химчистки</th>\n",
       "      <th>Ценные бумаги: брокеры/дилеры</th>\n",
       "      <th>Центры здоровья</th>\n",
       "      <th>Цифровые товары, игры</th>\n",
       "      <th>Школы — бизнес и секретарей</th>\n",
       "      <th>Штрафы</th>\n",
       "      <th>Штучные товары, галантерея и другие текстильные товары</th>\n",
       "      <th>Электрические части и оборудование</th>\n",
       "    </tr>\n",
       "    <tr>\n",
       "      <th>user_id</th>\n",
       "      <th></th>\n",
       "      <th></th>\n",
       "      <th></th>\n",
       "      <th></th>\n",
       "      <th></th>\n",
       "      <th></th>\n",
       "      <th></th>\n",
       "      <th></th>\n",
       "      <th></th>\n",
       "      <th></th>\n",
       "      <th></th>\n",
       "      <th></th>\n",
       "      <th></th>\n",
       "      <th></th>\n",
       "      <th></th>\n",
       "      <th></th>\n",
       "      <th></th>\n",
       "      <th></th>\n",
       "      <th></th>\n",
       "      <th></th>\n",
       "      <th></th>\n",
       "    </tr>\n",
       "  </thead>\n",
       "  <tbody>\n",
       "    <tr>\n",
       "      <th>22899</th>\n",
       "      <td>0.0</td>\n",
       "      <td>0.0</td>\n",
       "      <td>0.0</td>\n",
       "      <td>0.000</td>\n",
       "      <td>0.0</td>\n",
       "      <td>0.0</td>\n",
       "      <td>0.0</td>\n",
       "      <td>0.0</td>\n",
       "      <td>0.0</td>\n",
       "      <td>0.0</td>\n",
       "      <td>...</td>\n",
       "      <td>0.0</td>\n",
       "      <td>0.0</td>\n",
       "      <td>0.0</td>\n",
       "      <td>0.0</td>\n",
       "      <td>0.0</td>\n",
       "      <td>0.00</td>\n",
       "      <td>0.0</td>\n",
       "      <td>0.0</td>\n",
       "      <td>0.0</td>\n",
       "      <td>0.0</td>\n",
       "    </tr>\n",
       "    <tr>\n",
       "      <th>27914</th>\n",
       "      <td>0.0</td>\n",
       "      <td>0.0</td>\n",
       "      <td>0.0</td>\n",
       "      <td>0.000</td>\n",
       "      <td>0.0</td>\n",
       "      <td>0.0</td>\n",
       "      <td>0.0</td>\n",
       "      <td>0.0</td>\n",
       "      <td>0.0</td>\n",
       "      <td>0.0</td>\n",
       "      <td>...</td>\n",
       "      <td>0.0</td>\n",
       "      <td>0.0</td>\n",
       "      <td>0.0</td>\n",
       "      <td>0.0</td>\n",
       "      <td>0.0</td>\n",
       "      <td>0.00</td>\n",
       "      <td>0.0</td>\n",
       "      <td>0.0</td>\n",
       "      <td>0.0</td>\n",
       "      <td>0.0</td>\n",
       "    </tr>\n",
       "    <tr>\n",
       "      <th>28753</th>\n",
       "      <td>0.0</td>\n",
       "      <td>0.0</td>\n",
       "      <td>0.0</td>\n",
       "      <td>0.000</td>\n",
       "      <td>0.0</td>\n",
       "      <td>0.0</td>\n",
       "      <td>0.0</td>\n",
       "      <td>0.0</td>\n",
       "      <td>0.0</td>\n",
       "      <td>0.0</td>\n",
       "      <td>...</td>\n",
       "      <td>0.0</td>\n",
       "      <td>0.0</td>\n",
       "      <td>0.0</td>\n",
       "      <td>0.0</td>\n",
       "      <td>0.0</td>\n",
       "      <td>0.00</td>\n",
       "      <td>0.0</td>\n",
       "      <td>0.0</td>\n",
       "      <td>0.0</td>\n",
       "      <td>0.0</td>\n",
       "    </tr>\n",
       "    <tr>\n",
       "      <th>31385</th>\n",
       "      <td>0.0</td>\n",
       "      <td>0.0</td>\n",
       "      <td>0.0</td>\n",
       "      <td>0.000</td>\n",
       "      <td>0.0</td>\n",
       "      <td>0.0</td>\n",
       "      <td>0.0</td>\n",
       "      <td>0.0</td>\n",
       "      <td>0.0</td>\n",
       "      <td>0.0</td>\n",
       "      <td>...</td>\n",
       "      <td>0.0</td>\n",
       "      <td>0.0</td>\n",
       "      <td>0.0</td>\n",
       "      <td>0.0</td>\n",
       "      <td>0.0</td>\n",
       "      <td>0.00</td>\n",
       "      <td>0.0</td>\n",
       "      <td>0.0</td>\n",
       "      <td>0.0</td>\n",
       "      <td>0.0</td>\n",
       "    </tr>\n",
       "    <tr>\n",
       "      <th>38084</th>\n",
       "      <td>0.0</td>\n",
       "      <td>0.0</td>\n",
       "      <td>0.0</td>\n",
       "      <td>0.000</td>\n",
       "      <td>0.0</td>\n",
       "      <td>0.0</td>\n",
       "      <td>0.0</td>\n",
       "      <td>0.0</td>\n",
       "      <td>0.0</td>\n",
       "      <td>0.0</td>\n",
       "      <td>...</td>\n",
       "      <td>0.0</td>\n",
       "      <td>0.0</td>\n",
       "      <td>0.0</td>\n",
       "      <td>0.0</td>\n",
       "      <td>0.0</td>\n",
       "      <td>0.00</td>\n",
       "      <td>0.0</td>\n",
       "      <td>0.0</td>\n",
       "      <td>0.0</td>\n",
       "      <td>0.0</td>\n",
       "    </tr>\n",
       "    <tr>\n",
       "      <th>...</th>\n",
       "      <td>...</td>\n",
       "      <td>...</td>\n",
       "      <td>...</td>\n",
       "      <td>...</td>\n",
       "      <td>...</td>\n",
       "      <td>...</td>\n",
       "      <td>...</td>\n",
       "      <td>...</td>\n",
       "      <td>...</td>\n",
       "      <td>...</td>\n",
       "      <td>...</td>\n",
       "      <td>...</td>\n",
       "      <td>...</td>\n",
       "      <td>...</td>\n",
       "      <td>...</td>\n",
       "      <td>...</td>\n",
       "      <td>...</td>\n",
       "      <td>...</td>\n",
       "      <td>...</td>\n",
       "      <td>...</td>\n",
       "      <td>...</td>\n",
       "    </tr>\n",
       "    <tr>\n",
       "      <th>99953525</th>\n",
       "      <td>0.0</td>\n",
       "      <td>0.0</td>\n",
       "      <td>0.0</td>\n",
       "      <td>0.000</td>\n",
       "      <td>0.0</td>\n",
       "      <td>0.0</td>\n",
       "      <td>0.0</td>\n",
       "      <td>0.0</td>\n",
       "      <td>0.0</td>\n",
       "      <td>0.0</td>\n",
       "      <td>...</td>\n",
       "      <td>0.0</td>\n",
       "      <td>0.0</td>\n",
       "      <td>0.0</td>\n",
       "      <td>0.0</td>\n",
       "      <td>0.0</td>\n",
       "      <td>0.00</td>\n",
       "      <td>0.0</td>\n",
       "      <td>0.0</td>\n",
       "      <td>0.0</td>\n",
       "      <td>0.0</td>\n",
       "    </tr>\n",
       "    <tr>\n",
       "      <th>99967537</th>\n",
       "      <td>0.0</td>\n",
       "      <td>0.0</td>\n",
       "      <td>0.0</td>\n",
       "      <td>0.000</td>\n",
       "      <td>0.0</td>\n",
       "      <td>0.0</td>\n",
       "      <td>0.0</td>\n",
       "      <td>0.0</td>\n",
       "      <td>0.0</td>\n",
       "      <td>0.0</td>\n",
       "      <td>...</td>\n",
       "      <td>0.0</td>\n",
       "      <td>0.0</td>\n",
       "      <td>0.0</td>\n",
       "      <td>0.0</td>\n",
       "      <td>0.0</td>\n",
       "      <td>0.00</td>\n",
       "      <td>0.0</td>\n",
       "      <td>0.0</td>\n",
       "      <td>0.0</td>\n",
       "      <td>0.0</td>\n",
       "    </tr>\n",
       "    <tr>\n",
       "      <th>99988578</th>\n",
       "      <td>0.0</td>\n",
       "      <td>0.0</td>\n",
       "      <td>0.0</td>\n",
       "      <td>0.000</td>\n",
       "      <td>0.0</td>\n",
       "      <td>0.0</td>\n",
       "      <td>0.0</td>\n",
       "      <td>0.0</td>\n",
       "      <td>0.0</td>\n",
       "      <td>0.0</td>\n",
       "      <td>...</td>\n",
       "      <td>0.0</td>\n",
       "      <td>0.0</td>\n",
       "      <td>0.0</td>\n",
       "      <td>0.0</td>\n",
       "      <td>0.0</td>\n",
       "      <td>4267.24</td>\n",
       "      <td>0.0</td>\n",
       "      <td>0.0</td>\n",
       "      <td>0.0</td>\n",
       "      <td>0.0</td>\n",
       "    </tr>\n",
       "    <tr>\n",
       "      <th>99991245</th>\n",
       "      <td>0.0</td>\n",
       "      <td>0.0</td>\n",
       "      <td>0.0</td>\n",
       "      <td>4446.915</td>\n",
       "      <td>0.0</td>\n",
       "      <td>0.0</td>\n",
       "      <td>0.0</td>\n",
       "      <td>0.0</td>\n",
       "      <td>0.0</td>\n",
       "      <td>0.0</td>\n",
       "      <td>...</td>\n",
       "      <td>0.0</td>\n",
       "      <td>0.0</td>\n",
       "      <td>0.0</td>\n",
       "      <td>0.0</td>\n",
       "      <td>0.0</td>\n",
       "      <td>0.00</td>\n",
       "      <td>0.0</td>\n",
       "      <td>0.0</td>\n",
       "      <td>0.0</td>\n",
       "      <td>0.0</td>\n",
       "    </tr>\n",
       "    <tr>\n",
       "      <th>99999680</th>\n",
       "      <td>0.0</td>\n",
       "      <td>0.0</td>\n",
       "      <td>0.0</td>\n",
       "      <td>0.000</td>\n",
       "      <td>0.0</td>\n",
       "      <td>0.0</td>\n",
       "      <td>0.0</td>\n",
       "      <td>0.0</td>\n",
       "      <td>0.0</td>\n",
       "      <td>0.0</td>\n",
       "      <td>...</td>\n",
       "      <td>0.0</td>\n",
       "      <td>0.0</td>\n",
       "      <td>0.0</td>\n",
       "      <td>0.0</td>\n",
       "      <td>0.0</td>\n",
       "      <td>0.00</td>\n",
       "      <td>0.0</td>\n",
       "      <td>0.0</td>\n",
       "      <td>0.0</td>\n",
       "      <td>0.0</td>\n",
       "    </tr>\n",
       "  </tbody>\n",
       "</table>\n",
       "<p>8356 rows × 184 columns</p>\n",
       "</div>"
      ],
      "text/plain": [
       "type      Авиалинии, авиакомпании  \\\n",
       "user_id                             \n",
       "22899                         0.0   \n",
       "27914                         0.0   \n",
       "28753                         0.0   \n",
       "31385                         0.0   \n",
       "38084                         0.0   \n",
       "...                           ...   \n",
       "99953525                      0.0   \n",
       "99967537                      0.0   \n",
       "99988578                      0.0   \n",
       "99991245                      0.0   \n",
       "99999680                      0.0   \n",
       "\n",
       "type      Авиалинии, авиакомпании, нигде более не классифицированные  \\\n",
       "user_id                                                                \n",
       "22899                                                   0.0            \n",
       "27914                                                   0.0            \n",
       "28753                                                   0.0            \n",
       "31385                                                   0.0            \n",
       "38084                                                   0.0            \n",
       "...                                                     ...            \n",
       "99953525                                                0.0            \n",
       "99967537                                                0.0            \n",
       "99988578                                                0.0            \n",
       "99991245                                                0.0            \n",
       "99999680                                                0.0            \n",
       "\n",
       "type      Автобусные линии  Автозапчасти и аксессуары  \\\n",
       "user_id                                                 \n",
       "22899                  0.0                      0.000   \n",
       "27914                  0.0                      0.000   \n",
       "28753                  0.0                      0.000   \n",
       "31385                  0.0                      0.000   \n",
       "38084                  0.0                      0.000   \n",
       "...                    ...                        ...   \n",
       "99953525               0.0                      0.000   \n",
       "99967537               0.0                      0.000   \n",
       "99988578               0.0                      0.000   \n",
       "99991245               0.0                   4446.915   \n",
       "99999680               0.0                      0.000   \n",
       "\n",
       "type      Автоматизированные бензозаправки  Автомойки  Автошины  \\\n",
       "user_id                                                           \n",
       "22899                                  0.0        0.0       0.0   \n",
       "27914                                  0.0        0.0       0.0   \n",
       "28753                                  0.0        0.0       0.0   \n",
       "31385                                  0.0        0.0       0.0   \n",
       "38084                                  0.0        0.0       0.0   \n",
       "...                                    ...        ...       ...   \n",
       "99953525                               0.0        0.0       0.0   \n",
       "99967537                               0.0        0.0       0.0   \n",
       "99988578                               0.0        0.0       0.0   \n",
       "99991245                               0.0        0.0       0.0   \n",
       "99999680                               0.0        0.0       0.0   \n",
       "\n",
       "type      Агентства по автотранспортным перевозкам, местные/дальные автогрузоперевозки, компании попереезду и хранению, местная доставка  \\\n",
       "user_id                                                                                                                                    \n",
       "22899                                                   0.0                                                                                \n",
       "27914                                                   0.0                                                                                \n",
       "28753                                                   0.0                                                                                \n",
       "31385                                                   0.0                                                                                \n",
       "38084                                                   0.0                                                                                \n",
       "...                                                     ...                                                                                \n",
       "99953525                                                0.0                                                                                \n",
       "99967537                                                0.0                                                                                \n",
       "99988578                                                0.0                                                                                \n",
       "99991245                                                0.0                                                                                \n",
       "99999680                                                0.0                                                                                \n",
       "\n",
       "type      Агентства по аренде автомобилей  \\\n",
       "user_id                                     \n",
       "22899                                 0.0   \n",
       "27914                                 0.0   \n",
       "28753                                 0.0   \n",
       "31385                                 0.0   \n",
       "38084                                 0.0   \n",
       "...                                   ...   \n",
       "99953525                              0.0   \n",
       "99967537                              0.0   \n",
       "99988578                              0.0   \n",
       "99991245                              0.0   \n",
       "99999680                              0.0   \n",
       "\n",
       "type      Агенты и менеджеры по аренде недвижимости  ...  \\\n",
       "user_id                                              ...   \n",
       "22899                                           0.0  ...   \n",
       "27914                                           0.0  ...   \n",
       "28753                                           0.0  ...   \n",
       "31385                                           0.0  ...   \n",
       "38084                                           0.0  ...   \n",
       "...                                             ...  ...   \n",
       "99953525                                        0.0  ...   \n",
       "99967537                                        0.0  ...   \n",
       "99988578                                        0.0  ...   \n",
       "99991245                                        0.0  ...   \n",
       "99999680                                        0.0  ...   \n",
       "\n",
       "type      Фотостудии, фотолаборатории  \\\n",
       "user_id                                 \n",
       "22899                             0.0   \n",
       "27914                             0.0   \n",
       "28753                             0.0   \n",
       "31385                             0.0   \n",
       "38084                             0.0   \n",
       "...                               ...   \n",
       "99953525                          0.0   \n",
       "99967537                          0.0   \n",
       "99988578                          0.0   \n",
       "99991245                          0.0   \n",
       "99999680                          0.0   \n",
       "\n",
       "type      Химикалии и смежные вещества, не классифицированные ранее  \\\n",
       "user_id                                                               \n",
       "22899                                                   0.0           \n",
       "27914                                                   0.0           \n",
       "28753                                                   0.0           \n",
       "31385                                                   0.0           \n",
       "38084                                                   0.0           \n",
       "...                                                     ...           \n",
       "99953525                                                0.0           \n",
       "99967537                                                0.0           \n",
       "99988578                                                0.0           \n",
       "99991245                                                0.0           \n",
       "99999680                                                0.0           \n",
       "\n",
       "type      Химчистки  Ценные бумаги: брокеры/дилеры  Центры здоровья  \\\n",
       "user_id                                                               \n",
       "22899           0.0                            0.0              0.0   \n",
       "27914           0.0                            0.0              0.0   \n",
       "28753           0.0                            0.0              0.0   \n",
       "31385           0.0                            0.0              0.0   \n",
       "38084           0.0                            0.0              0.0   \n",
       "...             ...                            ...              ...   \n",
       "99953525        0.0                            0.0              0.0   \n",
       "99967537        0.0                            0.0              0.0   \n",
       "99988578        0.0                            0.0              0.0   \n",
       "99991245        0.0                            0.0              0.0   \n",
       "99999680        0.0                            0.0              0.0   \n",
       "\n",
       "type      Цифровые товары, игры  Школы — бизнес и секретарей  Штрафы  \\\n",
       "user_id                                                                \n",
       "22899                      0.00                          0.0     0.0   \n",
       "27914                      0.00                          0.0     0.0   \n",
       "28753                      0.00                          0.0     0.0   \n",
       "31385                      0.00                          0.0     0.0   \n",
       "38084                      0.00                          0.0     0.0   \n",
       "...                         ...                          ...     ...   \n",
       "99953525                   0.00                          0.0     0.0   \n",
       "99967537                   0.00                          0.0     0.0   \n",
       "99988578                4267.24                          0.0     0.0   \n",
       "99991245                   0.00                          0.0     0.0   \n",
       "99999680                   0.00                          0.0     0.0   \n",
       "\n",
       "type      Штучные товары, галантерея и другие текстильные товары  \\\n",
       "user_id                                                            \n",
       "22899                                                   0.0        \n",
       "27914                                                   0.0        \n",
       "28753                                                   0.0        \n",
       "31385                                                   0.0        \n",
       "38084                                                   0.0        \n",
       "...                                                     ...        \n",
       "99953525                                                0.0        \n",
       "99967537                                                0.0        \n",
       "99988578                                                0.0        \n",
       "99991245                                                0.0        \n",
       "99999680                                                0.0        \n",
       "\n",
       "type      Электрические части и оборудование  \n",
       "user_id                                       \n",
       "22899                                    0.0  \n",
       "27914                                    0.0  \n",
       "28753                                    0.0  \n",
       "31385                                    0.0  \n",
       "38084                                    0.0  \n",
       "...                                      ...  \n",
       "99953525                                 0.0  \n",
       "99967537                                 0.0  \n",
       "99988578                                 0.0  \n",
       "99991245                                 0.0  \n",
       "99999680                                 0.0  \n",
       "\n",
       "[8356 rows x 184 columns]"
      ]
     },
     "execution_count": 15,
     "metadata": {},
     "output_type": "execute_result"
    }
   ],
   "source": [
    "# получили необходимую новую табличку, к которой потом присобачим колонку с гендерами и на ней снова обучим модель\n",
    "\n",
    "df_pivot = pd.pivot_table(df_tr, values='value', index='user_id',\n",
    "                       columns='type', aggfunc=np.sum, fill_value=0)\n",
    "\n",
    "# запоминаем все категории, далее они нам понадобятся\n",
    "features = df_pivot.columns.to_list()\n",
    "\n",
    "df_pivot"
   ]
  },
  {
   "cell_type": "code",
   "execution_count": 16,
   "id": "68fd2cdd",
   "metadata": {
    "scrolled": false
   },
   "outputs": [
    {
     "data": {
      "text/html": [
       "<div>\n",
       "<style scoped>\n",
       "    .dataframe tbody tr th:only-of-type {\n",
       "        vertical-align: middle;\n",
       "    }\n",
       "\n",
       "    .dataframe tbody tr th {\n",
       "        vertical-align: top;\n",
       "    }\n",
       "\n",
       "    .dataframe thead th {\n",
       "        text-align: right;\n",
       "    }\n",
       "</style>\n",
       "<table border=\"1\" class=\"dataframe\">\n",
       "  <thead>\n",
       "    <tr style=\"text-align: right;\">\n",
       "      <th></th>\n",
       "      <th>user_id</th>\n",
       "      <th>Авиалинии, авиакомпании</th>\n",
       "      <th>Авиалинии, авиакомпании, нигде более не классифицированные</th>\n",
       "      <th>Автобусные линии</th>\n",
       "      <th>Автозапчасти и аксессуары</th>\n",
       "      <th>Автоматизированные бензозаправки</th>\n",
       "      <th>Автомойки</th>\n",
       "      <th>Автошины</th>\n",
       "      <th>Агентства по автотранспортным перевозкам, местные/дальные автогрузоперевозки, компании попереезду и хранению, местная доставка</th>\n",
       "      <th>Агентства по аренде автомобилей</th>\n",
       "      <th>...</th>\n",
       "      <th>Химикалии и смежные вещества, не классифицированные ранее</th>\n",
       "      <th>Химчистки</th>\n",
       "      <th>Ценные бумаги: брокеры/дилеры</th>\n",
       "      <th>Центры здоровья</th>\n",
       "      <th>Цифровые товары, игры</th>\n",
       "      <th>Школы — бизнес и секретарей</th>\n",
       "      <th>Штрафы</th>\n",
       "      <th>Штучные товары, галантерея и другие текстильные товары</th>\n",
       "      <th>Электрические части и оборудование</th>\n",
       "      <th>gender</th>\n",
       "    </tr>\n",
       "  </thead>\n",
       "  <tbody>\n",
       "    <tr>\n",
       "      <th>0</th>\n",
       "      <td>22899</td>\n",
       "      <td>0.0</td>\n",
       "      <td>0.0</td>\n",
       "      <td>0.0</td>\n",
       "      <td>0.000</td>\n",
       "      <td>0.0</td>\n",
       "      <td>0.0</td>\n",
       "      <td>0.0</td>\n",
       "      <td>0.0</td>\n",
       "      <td>0.0</td>\n",
       "      <td>...</td>\n",
       "      <td>0.0</td>\n",
       "      <td>0.0</td>\n",
       "      <td>0.0</td>\n",
       "      <td>0.0</td>\n",
       "      <td>0.00</td>\n",
       "      <td>0.0</td>\n",
       "      <td>0.0</td>\n",
       "      <td>0.0</td>\n",
       "      <td>0.0</td>\n",
       "      <td>1.0</td>\n",
       "    </tr>\n",
       "    <tr>\n",
       "      <th>1</th>\n",
       "      <td>27914</td>\n",
       "      <td>0.0</td>\n",
       "      <td>0.0</td>\n",
       "      <td>0.0</td>\n",
       "      <td>0.000</td>\n",
       "      <td>0.0</td>\n",
       "      <td>0.0</td>\n",
       "      <td>0.0</td>\n",
       "      <td>0.0</td>\n",
       "      <td>0.0</td>\n",
       "      <td>...</td>\n",
       "      <td>0.0</td>\n",
       "      <td>0.0</td>\n",
       "      <td>0.0</td>\n",
       "      <td>0.0</td>\n",
       "      <td>0.00</td>\n",
       "      <td>0.0</td>\n",
       "      <td>0.0</td>\n",
       "      <td>0.0</td>\n",
       "      <td>0.0</td>\n",
       "      <td>1.0</td>\n",
       "    </tr>\n",
       "    <tr>\n",
       "      <th>2</th>\n",
       "      <td>28753</td>\n",
       "      <td>0.0</td>\n",
       "      <td>0.0</td>\n",
       "      <td>0.0</td>\n",
       "      <td>0.000</td>\n",
       "      <td>0.0</td>\n",
       "      <td>0.0</td>\n",
       "      <td>0.0</td>\n",
       "      <td>0.0</td>\n",
       "      <td>0.0</td>\n",
       "      <td>...</td>\n",
       "      <td>0.0</td>\n",
       "      <td>0.0</td>\n",
       "      <td>0.0</td>\n",
       "      <td>0.0</td>\n",
       "      <td>0.00</td>\n",
       "      <td>0.0</td>\n",
       "      <td>0.0</td>\n",
       "      <td>0.0</td>\n",
       "      <td>0.0</td>\n",
       "      <td>0.0</td>\n",
       "    </tr>\n",
       "    <tr>\n",
       "      <th>3</th>\n",
       "      <td>31385</td>\n",
       "      <td>0.0</td>\n",
       "      <td>0.0</td>\n",
       "      <td>0.0</td>\n",
       "      <td>0.000</td>\n",
       "      <td>0.0</td>\n",
       "      <td>0.0</td>\n",
       "      <td>0.0</td>\n",
       "      <td>0.0</td>\n",
       "      <td>0.0</td>\n",
       "      <td>...</td>\n",
       "      <td>0.0</td>\n",
       "      <td>0.0</td>\n",
       "      <td>0.0</td>\n",
       "      <td>0.0</td>\n",
       "      <td>0.00</td>\n",
       "      <td>0.0</td>\n",
       "      <td>0.0</td>\n",
       "      <td>0.0</td>\n",
       "      <td>0.0</td>\n",
       "      <td>0.0</td>\n",
       "    </tr>\n",
       "    <tr>\n",
       "      <th>4</th>\n",
       "      <td>38084</td>\n",
       "      <td>0.0</td>\n",
       "      <td>0.0</td>\n",
       "      <td>0.0</td>\n",
       "      <td>0.000</td>\n",
       "      <td>0.0</td>\n",
       "      <td>0.0</td>\n",
       "      <td>0.0</td>\n",
       "      <td>0.0</td>\n",
       "      <td>0.0</td>\n",
       "      <td>...</td>\n",
       "      <td>0.0</td>\n",
       "      <td>0.0</td>\n",
       "      <td>0.0</td>\n",
       "      <td>0.0</td>\n",
       "      <td>0.00</td>\n",
       "      <td>0.0</td>\n",
       "      <td>0.0</td>\n",
       "      <td>0.0</td>\n",
       "      <td>0.0</td>\n",
       "      <td>0.0</td>\n",
       "    </tr>\n",
       "    <tr>\n",
       "      <th>...</th>\n",
       "      <td>...</td>\n",
       "      <td>...</td>\n",
       "      <td>...</td>\n",
       "      <td>...</td>\n",
       "      <td>...</td>\n",
       "      <td>...</td>\n",
       "      <td>...</td>\n",
       "      <td>...</td>\n",
       "      <td>...</td>\n",
       "      <td>...</td>\n",
       "      <td>...</td>\n",
       "      <td>...</td>\n",
       "      <td>...</td>\n",
       "      <td>...</td>\n",
       "      <td>...</td>\n",
       "      <td>...</td>\n",
       "      <td>...</td>\n",
       "      <td>...</td>\n",
       "      <td>...</td>\n",
       "      <td>...</td>\n",
       "      <td>...</td>\n",
       "    </tr>\n",
       "    <tr>\n",
       "      <th>8351</th>\n",
       "      <td>99953525</td>\n",
       "      <td>0.0</td>\n",
       "      <td>0.0</td>\n",
       "      <td>0.0</td>\n",
       "      <td>0.000</td>\n",
       "      <td>0.0</td>\n",
       "      <td>0.0</td>\n",
       "      <td>0.0</td>\n",
       "      <td>0.0</td>\n",
       "      <td>0.0</td>\n",
       "      <td>...</td>\n",
       "      <td>0.0</td>\n",
       "      <td>0.0</td>\n",
       "      <td>0.0</td>\n",
       "      <td>0.0</td>\n",
       "      <td>0.00</td>\n",
       "      <td>0.0</td>\n",
       "      <td>0.0</td>\n",
       "      <td>0.0</td>\n",
       "      <td>0.0</td>\n",
       "      <td>0.0</td>\n",
       "    </tr>\n",
       "    <tr>\n",
       "      <th>8352</th>\n",
       "      <td>99967537</td>\n",
       "      <td>0.0</td>\n",
       "      <td>0.0</td>\n",
       "      <td>0.0</td>\n",
       "      <td>0.000</td>\n",
       "      <td>0.0</td>\n",
       "      <td>0.0</td>\n",
       "      <td>0.0</td>\n",
       "      <td>0.0</td>\n",
       "      <td>0.0</td>\n",
       "      <td>...</td>\n",
       "      <td>0.0</td>\n",
       "      <td>0.0</td>\n",
       "      <td>0.0</td>\n",
       "      <td>0.0</td>\n",
       "      <td>0.00</td>\n",
       "      <td>0.0</td>\n",
       "      <td>0.0</td>\n",
       "      <td>0.0</td>\n",
       "      <td>0.0</td>\n",
       "      <td>1.0</td>\n",
       "    </tr>\n",
       "    <tr>\n",
       "      <th>8353</th>\n",
       "      <td>99988578</td>\n",
       "      <td>0.0</td>\n",
       "      <td>0.0</td>\n",
       "      <td>0.0</td>\n",
       "      <td>0.000</td>\n",
       "      <td>0.0</td>\n",
       "      <td>0.0</td>\n",
       "      <td>0.0</td>\n",
       "      <td>0.0</td>\n",
       "      <td>0.0</td>\n",
       "      <td>...</td>\n",
       "      <td>0.0</td>\n",
       "      <td>0.0</td>\n",
       "      <td>0.0</td>\n",
       "      <td>0.0</td>\n",
       "      <td>4267.24</td>\n",
       "      <td>0.0</td>\n",
       "      <td>0.0</td>\n",
       "      <td>0.0</td>\n",
       "      <td>0.0</td>\n",
       "      <td>1.0</td>\n",
       "    </tr>\n",
       "    <tr>\n",
       "      <th>8354</th>\n",
       "      <td>99991245</td>\n",
       "      <td>0.0</td>\n",
       "      <td>0.0</td>\n",
       "      <td>0.0</td>\n",
       "      <td>4446.915</td>\n",
       "      <td>0.0</td>\n",
       "      <td>0.0</td>\n",
       "      <td>0.0</td>\n",
       "      <td>0.0</td>\n",
       "      <td>0.0</td>\n",
       "      <td>...</td>\n",
       "      <td>0.0</td>\n",
       "      <td>0.0</td>\n",
       "      <td>0.0</td>\n",
       "      <td>0.0</td>\n",
       "      <td>0.00</td>\n",
       "      <td>0.0</td>\n",
       "      <td>0.0</td>\n",
       "      <td>0.0</td>\n",
       "      <td>0.0</td>\n",
       "      <td>1.0</td>\n",
       "    </tr>\n",
       "    <tr>\n",
       "      <th>8355</th>\n",
       "      <td>99999680</td>\n",
       "      <td>0.0</td>\n",
       "      <td>0.0</td>\n",
       "      <td>0.0</td>\n",
       "      <td>0.000</td>\n",
       "      <td>0.0</td>\n",
       "      <td>0.0</td>\n",
       "      <td>0.0</td>\n",
       "      <td>0.0</td>\n",
       "      <td>0.0</td>\n",
       "      <td>...</td>\n",
       "      <td>0.0</td>\n",
       "      <td>0.0</td>\n",
       "      <td>0.0</td>\n",
       "      <td>0.0</td>\n",
       "      <td>0.00</td>\n",
       "      <td>0.0</td>\n",
       "      <td>0.0</td>\n",
       "      <td>0.0</td>\n",
       "      <td>0.0</td>\n",
       "      <td>1.0</td>\n",
       "    </tr>\n",
       "  </tbody>\n",
       "</table>\n",
       "<p>8356 rows × 186 columns</p>\n",
       "</div>"
      ],
      "text/plain": [
       "       user_id  Авиалинии, авиакомпании  \\\n",
       "0        22899                      0.0   \n",
       "1        27914                      0.0   \n",
       "2        28753                      0.0   \n",
       "3        31385                      0.0   \n",
       "4        38084                      0.0   \n",
       "...        ...                      ...   \n",
       "8351  99953525                      0.0   \n",
       "8352  99967537                      0.0   \n",
       "8353  99988578                      0.0   \n",
       "8354  99991245                      0.0   \n",
       "8355  99999680                      0.0   \n",
       "\n",
       "      Авиалинии, авиакомпании, нигде более не классифицированные  \\\n",
       "0                                                   0.0            \n",
       "1                                                   0.0            \n",
       "2                                                   0.0            \n",
       "3                                                   0.0            \n",
       "4                                                   0.0            \n",
       "...                                                 ...            \n",
       "8351                                                0.0            \n",
       "8352                                                0.0            \n",
       "8353                                                0.0            \n",
       "8354                                                0.0            \n",
       "8355                                                0.0            \n",
       "\n",
       "      Автобусные линии  Автозапчасти и аксессуары  \\\n",
       "0                  0.0                      0.000   \n",
       "1                  0.0                      0.000   \n",
       "2                  0.0                      0.000   \n",
       "3                  0.0                      0.000   \n",
       "4                  0.0                      0.000   \n",
       "...                ...                        ...   \n",
       "8351               0.0                      0.000   \n",
       "8352               0.0                      0.000   \n",
       "8353               0.0                      0.000   \n",
       "8354               0.0                   4446.915   \n",
       "8355               0.0                      0.000   \n",
       "\n",
       "      Автоматизированные бензозаправки  Автомойки  Автошины  \\\n",
       "0                                  0.0        0.0       0.0   \n",
       "1                                  0.0        0.0       0.0   \n",
       "2                                  0.0        0.0       0.0   \n",
       "3                                  0.0        0.0       0.0   \n",
       "4                                  0.0        0.0       0.0   \n",
       "...                                ...        ...       ...   \n",
       "8351                               0.0        0.0       0.0   \n",
       "8352                               0.0        0.0       0.0   \n",
       "8353                               0.0        0.0       0.0   \n",
       "8354                               0.0        0.0       0.0   \n",
       "8355                               0.0        0.0       0.0   \n",
       "\n",
       "      Агентства по автотранспортным перевозкам, местные/дальные автогрузоперевозки, компании попереезду и хранению, местная доставка  \\\n",
       "0                                                   0.0                                                                                \n",
       "1                                                   0.0                                                                                \n",
       "2                                                   0.0                                                                                \n",
       "3                                                   0.0                                                                                \n",
       "4                                                   0.0                                                                                \n",
       "...                                                 ...                                                                                \n",
       "8351                                                0.0                                                                                \n",
       "8352                                                0.0                                                                                \n",
       "8353                                                0.0                                                                                \n",
       "8354                                                0.0                                                                                \n",
       "8355                                                0.0                                                                                \n",
       "\n",
       "      Агентства по аренде автомобилей  ...  \\\n",
       "0                                 0.0  ...   \n",
       "1                                 0.0  ...   \n",
       "2                                 0.0  ...   \n",
       "3                                 0.0  ...   \n",
       "4                                 0.0  ...   \n",
       "...                               ...  ...   \n",
       "8351                              0.0  ...   \n",
       "8352                              0.0  ...   \n",
       "8353                              0.0  ...   \n",
       "8354                              0.0  ...   \n",
       "8355                              0.0  ...   \n",
       "\n",
       "      Химикалии и смежные вещества, не классифицированные ранее  Химчистки  \\\n",
       "0                                                   0.0                0.0   \n",
       "1                                                   0.0                0.0   \n",
       "2                                                   0.0                0.0   \n",
       "3                                                   0.0                0.0   \n",
       "4                                                   0.0                0.0   \n",
       "...                                                 ...                ...   \n",
       "8351                                                0.0                0.0   \n",
       "8352                                                0.0                0.0   \n",
       "8353                                                0.0                0.0   \n",
       "8354                                                0.0                0.0   \n",
       "8355                                                0.0                0.0   \n",
       "\n",
       "      Ценные бумаги: брокеры/дилеры  Центры здоровья  Цифровые товары, игры  \\\n",
       "0                               0.0              0.0                   0.00   \n",
       "1                               0.0              0.0                   0.00   \n",
       "2                               0.0              0.0                   0.00   \n",
       "3                               0.0              0.0                   0.00   \n",
       "4                               0.0              0.0                   0.00   \n",
       "...                             ...              ...                    ...   \n",
       "8351                            0.0              0.0                   0.00   \n",
       "8352                            0.0              0.0                   0.00   \n",
       "8353                            0.0              0.0                4267.24   \n",
       "8354                            0.0              0.0                   0.00   \n",
       "8355                            0.0              0.0                   0.00   \n",
       "\n",
       "      Школы — бизнес и секретарей  Штрафы  \\\n",
       "0                             0.0     0.0   \n",
       "1                             0.0     0.0   \n",
       "2                             0.0     0.0   \n",
       "3                             0.0     0.0   \n",
       "4                             0.0     0.0   \n",
       "...                           ...     ...   \n",
       "8351                          0.0     0.0   \n",
       "8352                          0.0     0.0   \n",
       "8353                          0.0     0.0   \n",
       "8354                          0.0     0.0   \n",
       "8355                          0.0     0.0   \n",
       "\n",
       "      Штучные товары, галантерея и другие текстильные товары  \\\n",
       "0                                                   0.0        \n",
       "1                                                   0.0        \n",
       "2                                                   0.0        \n",
       "3                                                   0.0        \n",
       "4                                                   0.0        \n",
       "...                                                 ...        \n",
       "8351                                                0.0        \n",
       "8352                                                0.0        \n",
       "8353                                                0.0        \n",
       "8354                                                0.0        \n",
       "8355                                                0.0        \n",
       "\n",
       "      Электрические части и оборудование  gender  \n",
       "0                                    0.0     1.0  \n",
       "1                                    0.0     1.0  \n",
       "2                                    0.0     0.0  \n",
       "3                                    0.0     0.0  \n",
       "4                                    0.0     0.0  \n",
       "...                                  ...     ...  \n",
       "8351                                 0.0     0.0  \n",
       "8352                                 0.0     1.0  \n",
       "8353                                 0.0     1.0  \n",
       "8354                                 0.0     1.0  \n",
       "8355                                 0.0     1.0  \n",
       "\n",
       "[8356 rows x 186 columns]"
      ]
     },
     "execution_count": 16,
     "metadata": {},
     "output_type": "execute_result"
    }
   ],
   "source": [
    "# добавили колонку с гендером, чтобы по ней взять y для трейн и теста\n",
    "\n",
    "df_pivot_GenderJoined = df_pivot.merge(df_gender, on='user_id')\n",
    "df_pivot_GenderJoined"
   ]
  },
  {
   "cell_type": "markdown",
   "id": "ad21c6ef",
   "metadata": {
    "pycharm": {
     "name": "#%% md\n"
    }
   },
   "source": [
    "## Обучение и валидация модели [5 баллов]"
   ]
  },
  {
   "cell_type": "markdown",
   "id": "39a87010",
   "metadata": {
    "pycharm": {
     "name": "#%% md\n"
    }
   },
   "source": [
    "Аналогично предыдущей части разделите данные на обучающую и тестовую выборку (80%/20%), обучите модель на дефолтных параметрах и оцените качество."
   ]
  },
  {
   "cell_type": "code",
   "execution_count": 17,
   "id": "8aa668ce",
   "metadata": {
    "pycharm": {
     "name": "#%%\n"
    }
   },
   "outputs": [],
   "source": [
    "# делаем все тоже самое, что и раньше только для нового датасета\n",
    "\n",
    "training_data_new, testing_data_new = train_test_split(df_pivot_GenderJoined, test_size=0.2, random_state=1)\n",
    "\n",
    "# разделяем У на трейн и тест\n",
    "\n",
    "y_train_new = training_data_new['gender'].to_numpy()\n",
    "y_test_new = testing_data_new['gender'].to_numpy()\n",
    "\n",
    "# разделяем Х на трейн и тест\n",
    "\n",
    "X_train_new = training_data_new.drop('gender', axis=1).to_numpy()\n",
    "X_test_new = testing_data_new.drop('gender', axis=1).to_numpy()"
   ]
  },
  {
   "cell_type": "code",
   "execution_count": 18,
   "id": "ef7561dc",
   "metadata": {},
   "outputs": [
    {
     "data": {
      "text/plain": [
       "0.6572966507177034"
      ]
     },
     "execution_count": 18,
     "metadata": {},
     "output_type": "execute_result"
    }
   ],
   "source": [
    "# обучили модель логистической регрессии для нового датасета\n",
    "\n",
    "model.fit(X_train_new, y_train_new)\n",
    "model.score(X_test_new, y_test_new)"
   ]
  },
  {
   "cell_type": "code",
   "execution_count": 19,
   "id": "b033ce8d",
   "metadata": {
    "scrolled": true
   },
   "outputs": [
    {
     "data": {
      "text/plain": [
       "array([0.48479677, 0.38280379, 0.48634638, ..., 0.36910965, 0.4295377 ,\n",
       "       0.999096  ])"
      ]
     },
     "execution_count": 19,
     "metadata": {},
     "output_type": "execute_result"
    }
   ],
   "source": [
    "# получаем предсказангие вероятностей первого класса с помощью predict_proba()\n",
    "\n",
    "p_pred_new = model.predict_proba(X_test_new)[:, 1]\n",
    "p_pred_new"
   ]
  },
  {
   "cell_type": "code",
   "execution_count": 20,
   "id": "77aaf0f7",
   "metadata": {},
   "outputs": [
    {
     "data": {
      "text/plain": [
       "array([0, 0, 0, ..., 0, 0, 1])"
      ]
     },
     "execution_count": 20,
     "metadata": {},
     "output_type": "execute_result"
    }
   ],
   "source": [
    "# после того как улучшили качество данных в показателях уже не одни нули и из этого может что-то получится\n",
    "\n",
    "y_pred_new = 1*(p_pred_new >= t) \n",
    "y_pred_new"
   ]
  },
  {
   "cell_type": "code",
   "execution_count": 21,
   "id": "959ff452",
   "metadata": {},
   "outputs": [
    {
     "data": {
      "text/plain": [
       "array([[800, 132],\n",
       "       [441, 299]], dtype=int64)"
      ]
     },
     "execution_count": 21,
     "metadata": {},
     "output_type": "execute_result"
    }
   ],
   "source": [
    "# глянем матрицу ошибок. заметим, что она несколько изменилась, что обязательно отразиться на метриках качества\n",
    "\n",
    "confusion_matrix(y_test_new, y_pred_new)"
   ]
  },
  {
   "cell_type": "code",
   "execution_count": 22,
   "id": "728069f9",
   "metadata": {},
   "outputs": [
    {
     "name": "stdout",
     "output_type": "stream",
     "text": [
      "ROC-AUC = 0.7220914047094305\n",
      "Accuracy = 0.6572966507177034\n",
      "Precision = 0.6937354988399071\n",
      "Recall = 0.40405405405405403\n"
     ]
    }
   ],
   "source": [
    "# высчитываем все необходимые показатели через встроенные в библиотеку функции, но уже для нового датасета\n",
    "\n",
    "roc_auc = roc_auc_score(y_test_new, p_pred_new)\n",
    "\n",
    "accuracy = accuracy_score(y_test_new, y_pred_new)\n",
    "\n",
    "precision = precision_score(y_test_new, y_pred_new)\n",
    "\n",
    "recall = recall_score(y_test_new, y_pred_new)\n",
    "\n",
    "print(f'ROC-AUC = {roc_auc}', f'Accuracy = {accuracy}', f'Precision = {precision}', f'Recall = {recall}', sep='\\n')"
   ]
  },
  {
   "cell_type": "code",
   "execution_count": 23,
   "id": "74e0c8ef",
   "metadata": {},
   "outputs": [
    {
     "data": {
      "image/png": "[encoded data removed]",
      "text/plain": [
       "<Figure size 700x700 with 1 Axes>"
      ]
     },
     "metadata": {},
     "output_type": "display_data"
    }
   ],
   "source": [
    "# вновь пользуемся кодом того, чье имя нельзя произносить вслух, для визуализации нашей кривой\n",
    "\n",
    "def roc_auc_pic_new(y_test_new, y_pred_new):    \n",
    "    fpr_test_new, tpr_test_new, thresholds_test_new = roc_curve(y_test_new, p_pred_new)\n",
    "    roc_auc_test_new = roc_auc_score(y_test_new, p_pred_new)\n",
    "\n",
    "    plt.figure(figsize=(7, 7))\n",
    "    plt.plot(fpr_test_new, tpr_test_new, label='Test ROC-AUC {0}'.format(roc_auc_test_new))\n",
    "    plt.plot([0, 1], [0, 1], '--', color=(0.8, 0.8, 0.8))\n",
    "    plt.xlim([0, 1])\n",
    "    plt.ylim([0, 1])\n",
    "    plt.xlabel('False Positive Rate')\n",
    "    plt.ylabel('True Positive Rate')\n",
    "    plt.legend(loc='lower right');\n",
    "    \n",
    "    \n",
    "roc_auc_pic_new(y_test_new, p_pred_new)"
   ]
  },
  {
   "cell_type": "markdown",
   "id": "8f67c1fb",
   "metadata": {
    "pycharm": {
     "name": "#%% md\n"
    }
   },
   "source": [
    "### Вывод "
   ]
  },
  {
   "cell_type": "markdown",
   "id": "3988e390",
   "metadata": {
    "pycharm": {
     "name": "#%% md\n"
    }
   },
   "source": [
    "Изменилось ли качество модели? Почему?\n",
    "\n",
    "__Ваш вывод:__ _качество данных улучшилось, теперь мы обучаем нашу модель на основе категорий, по которым легче определить какого пола потребитель. Из-за чего в частности все наши показатели улучшились, что не может не радовать. Это лучше, чем в примере выше, но можно сделать еще лучше. В любом случае, сложно будет избавиться от мужчин, которые делают покупки \"как женщины\" или наоборот, что также будет сбивать нашу модель_"
   ]
  },
  {
   "cell_type": "markdown",
   "id": "39eb4d89",
   "metadata": {
    "pycharm": {
     "name": "#%% md\n"
    }
   },
   "source": [
    "# Часть 3: что мы всё про данные? Давайте про модель \n",
    "# [макс 30 баллов]"
   ]
  },
  {
   "cell_type": "markdown",
   "id": "132aaef6",
   "metadata": {
    "pycharm": {
     "name": "#%% md\n"
    }
   },
   "source": [
    "Ранее мы работали только над подготовкой обучающей выборки. Давайте теперь попробуем изменить модель, чтобы добиться наилучшего качества. \n",
    "\n",
    "Входные данные для этой части - выборка с предыдущей."
   ]
  },
  {
   "cell_type": "markdown",
   "id": "381b15b7",
   "metadata": {
    "pycharm": {
     "name": "#%% md\n"
    }
   },
   "source": [
    "## Нормирование данных [5 баллов] "
   ]
  },
  {
   "cell_type": "markdown",
   "id": "0a268750",
   "metadata": {
    "pycharm": {
     "name": "#%% md\n"
    }
   },
   "source": [
    "Как мы знаем, линейные модели любят нормированные данные.\n",
    "\n",
    "Приведите значения всех признаков в отрезок [0, 1]\n",
    "\n",
    "__Замечание__: если вы используете метод, который удаляет информацию о названиях колонок - сохраните эти названия в отдельную переменную, вам это потом может понадобиться."
   ]
  },
  {
   "cell_type": "code",
   "execution_count": 24,
   "id": "7cb64ed2",
   "metadata": {},
   "outputs": [
    {
     "data": {
      "text/html": [
       "<div>\n",
       "<style scoped>\n",
       "    .dataframe tbody tr th:only-of-type {\n",
       "        vertical-align: middle;\n",
       "    }\n",
       "\n",
       "    .dataframe tbody tr th {\n",
       "        vertical-align: top;\n",
       "    }\n",
       "\n",
       "    .dataframe thead th {\n",
       "        text-align: right;\n",
       "    }\n",
       "</style>\n",
       "<table border=\"1\" class=\"dataframe\">\n",
       "  <thead>\n",
       "    <tr style=\"text-align: right;\">\n",
       "      <th></th>\n",
       "      <th>user_id</th>\n",
       "      <th>Авиалинии, авиакомпании</th>\n",
       "      <th>Авиалинии, авиакомпании, нигде более не классифицированные</th>\n",
       "      <th>Автобусные линии</th>\n",
       "      <th>Автозапчасти и аксессуары</th>\n",
       "      <th>Автоматизированные бензозаправки</th>\n",
       "      <th>Автомойки</th>\n",
       "      <th>Автошины</th>\n",
       "      <th>Агентства по автотранспортным перевозкам, местные/дальные автогрузоперевозки, компании попереезду и хранению, местная доставка</th>\n",
       "      <th>Агентства по аренде автомобилей</th>\n",
       "      <th>...</th>\n",
       "      <th>Химикалии и смежные вещества, не классифицированные ранее</th>\n",
       "      <th>Химчистки</th>\n",
       "      <th>Ценные бумаги: брокеры/дилеры</th>\n",
       "      <th>Центры здоровья</th>\n",
       "      <th>Цифровые товары, игры</th>\n",
       "      <th>Школы — бизнес и секретарей</th>\n",
       "      <th>Штрафы</th>\n",
       "      <th>Штучные товары, галантерея и другие текстильные товары</th>\n",
       "      <th>Электрические части и оборудование</th>\n",
       "      <th>gender</th>\n",
       "    </tr>\n",
       "  </thead>\n",
       "  <tbody>\n",
       "    <tr>\n",
       "      <th>0</th>\n",
       "      <td>22899</td>\n",
       "      <td>0.0</td>\n",
       "      <td>0.0</td>\n",
       "      <td>0.0</td>\n",
       "      <td>0.000000</td>\n",
       "      <td>0.0</td>\n",
       "      <td>0.0</td>\n",
       "      <td>0.0</td>\n",
       "      <td>0.0</td>\n",
       "      <td>0.0</td>\n",
       "      <td>...</td>\n",
       "      <td>0.0</td>\n",
       "      <td>0.0</td>\n",
       "      <td>0.0</td>\n",
       "      <td>0.0</td>\n",
       "      <td>0.000000</td>\n",
       "      <td>0.0</td>\n",
       "      <td>0.0</td>\n",
       "      <td>0.0</td>\n",
       "      <td>0.0</td>\n",
       "      <td>1.0</td>\n",
       "    </tr>\n",
       "    <tr>\n",
       "      <th>1</th>\n",
       "      <td>27914</td>\n",
       "      <td>0.0</td>\n",
       "      <td>0.0</td>\n",
       "      <td>0.0</td>\n",
       "      <td>0.000000</td>\n",
       "      <td>0.0</td>\n",
       "      <td>0.0</td>\n",
       "      <td>0.0</td>\n",
       "      <td>0.0</td>\n",
       "      <td>0.0</td>\n",
       "      <td>...</td>\n",
       "      <td>0.0</td>\n",
       "      <td>0.0</td>\n",
       "      <td>0.0</td>\n",
       "      <td>0.0</td>\n",
       "      <td>0.000000</td>\n",
       "      <td>0.0</td>\n",
       "      <td>0.0</td>\n",
       "      <td>0.0</td>\n",
       "      <td>0.0</td>\n",
       "      <td>1.0</td>\n",
       "    </tr>\n",
       "    <tr>\n",
       "      <th>2</th>\n",
       "      <td>28753</td>\n",
       "      <td>0.0</td>\n",
       "      <td>0.0</td>\n",
       "      <td>0.0</td>\n",
       "      <td>0.000000</td>\n",
       "      <td>0.0</td>\n",
       "      <td>0.0</td>\n",
       "      <td>0.0</td>\n",
       "      <td>0.0</td>\n",
       "      <td>0.0</td>\n",
       "      <td>...</td>\n",
       "      <td>0.0</td>\n",
       "      <td>0.0</td>\n",
       "      <td>0.0</td>\n",
       "      <td>0.0</td>\n",
       "      <td>0.000000</td>\n",
       "      <td>0.0</td>\n",
       "      <td>0.0</td>\n",
       "      <td>0.0</td>\n",
       "      <td>0.0</td>\n",
       "      <td>0.0</td>\n",
       "    </tr>\n",
       "    <tr>\n",
       "      <th>3</th>\n",
       "      <td>31385</td>\n",
       "      <td>0.0</td>\n",
       "      <td>0.0</td>\n",
       "      <td>0.0</td>\n",
       "      <td>0.000000</td>\n",
       "      <td>0.0</td>\n",
       "      <td>0.0</td>\n",
       "      <td>0.0</td>\n",
       "      <td>0.0</td>\n",
       "      <td>0.0</td>\n",
       "      <td>...</td>\n",
       "      <td>0.0</td>\n",
       "      <td>0.0</td>\n",
       "      <td>0.0</td>\n",
       "      <td>0.0</td>\n",
       "      <td>0.000000</td>\n",
       "      <td>0.0</td>\n",
       "      <td>0.0</td>\n",
       "      <td>0.0</td>\n",
       "      <td>0.0</td>\n",
       "      <td>0.0</td>\n",
       "    </tr>\n",
       "    <tr>\n",
       "      <th>4</th>\n",
       "      <td>38084</td>\n",
       "      <td>0.0</td>\n",
       "      <td>0.0</td>\n",
       "      <td>0.0</td>\n",
       "      <td>0.000000</td>\n",
       "      <td>0.0</td>\n",
       "      <td>0.0</td>\n",
       "      <td>0.0</td>\n",
       "      <td>0.0</td>\n",
       "      <td>0.0</td>\n",
       "      <td>...</td>\n",
       "      <td>0.0</td>\n",
       "      <td>0.0</td>\n",
       "      <td>0.0</td>\n",
       "      <td>0.0</td>\n",
       "      <td>0.000000</td>\n",
       "      <td>0.0</td>\n",
       "      <td>0.0</td>\n",
       "      <td>0.0</td>\n",
       "      <td>0.0</td>\n",
       "      <td>0.0</td>\n",
       "    </tr>\n",
       "    <tr>\n",
       "      <th>...</th>\n",
       "      <td>...</td>\n",
       "      <td>...</td>\n",
       "      <td>...</td>\n",
       "      <td>...</td>\n",
       "      <td>...</td>\n",
       "      <td>...</td>\n",
       "      <td>...</td>\n",
       "      <td>...</td>\n",
       "      <td>...</td>\n",
       "      <td>...</td>\n",
       "      <td>...</td>\n",
       "      <td>...</td>\n",
       "      <td>...</td>\n",
       "      <td>...</td>\n",
       "      <td>...</td>\n",
       "      <td>...</td>\n",
       "      <td>...</td>\n",
       "      <td>...</td>\n",
       "      <td>...</td>\n",
       "      <td>...</td>\n",
       "      <td>...</td>\n",
       "    </tr>\n",
       "    <tr>\n",
       "      <th>8351</th>\n",
       "      <td>99953525</td>\n",
       "      <td>0.0</td>\n",
       "      <td>0.0</td>\n",
       "      <td>0.0</td>\n",
       "      <td>0.000000</td>\n",
       "      <td>0.0</td>\n",
       "      <td>0.0</td>\n",
       "      <td>0.0</td>\n",
       "      <td>0.0</td>\n",
       "      <td>0.0</td>\n",
       "      <td>...</td>\n",
       "      <td>0.0</td>\n",
       "      <td>0.0</td>\n",
       "      <td>0.0</td>\n",
       "      <td>0.0</td>\n",
       "      <td>0.000000</td>\n",
       "      <td>0.0</td>\n",
       "      <td>0.0</td>\n",
       "      <td>0.0</td>\n",
       "      <td>0.0</td>\n",
       "      <td>0.0</td>\n",
       "    </tr>\n",
       "    <tr>\n",
       "      <th>8352</th>\n",
       "      <td>99967537</td>\n",
       "      <td>0.0</td>\n",
       "      <td>0.0</td>\n",
       "      <td>0.0</td>\n",
       "      <td>0.000000</td>\n",
       "      <td>0.0</td>\n",
       "      <td>0.0</td>\n",
       "      <td>0.0</td>\n",
       "      <td>0.0</td>\n",
       "      <td>0.0</td>\n",
       "      <td>...</td>\n",
       "      <td>0.0</td>\n",
       "      <td>0.0</td>\n",
       "      <td>0.0</td>\n",
       "      <td>0.0</td>\n",
       "      <td>0.000000</td>\n",
       "      <td>0.0</td>\n",
       "      <td>0.0</td>\n",
       "      <td>0.0</td>\n",
       "      <td>0.0</td>\n",
       "      <td>1.0</td>\n",
       "    </tr>\n",
       "    <tr>\n",
       "      <th>8353</th>\n",
       "      <td>99988578</td>\n",
       "      <td>0.0</td>\n",
       "      <td>0.0</td>\n",
       "      <td>0.0</td>\n",
       "      <td>0.000000</td>\n",
       "      <td>0.0</td>\n",
       "      <td>0.0</td>\n",
       "      <td>0.0</td>\n",
       "      <td>0.0</td>\n",
       "      <td>0.0</td>\n",
       "      <td>...</td>\n",
       "      <td>0.0</td>\n",
       "      <td>0.0</td>\n",
       "      <td>0.0</td>\n",
       "      <td>0.0</td>\n",
       "      <td>0.058444</td>\n",
       "      <td>0.0</td>\n",
       "      <td>0.0</td>\n",
       "      <td>0.0</td>\n",
       "      <td>0.0</td>\n",
       "      <td>1.0</td>\n",
       "    </tr>\n",
       "    <tr>\n",
       "      <th>8354</th>\n",
       "      <td>99991245</td>\n",
       "      <td>0.0</td>\n",
       "      <td>0.0</td>\n",
       "      <td>0.0</td>\n",
       "      <td>0.010513</td>\n",
       "      <td>0.0</td>\n",
       "      <td>0.0</td>\n",
       "      <td>0.0</td>\n",
       "      <td>0.0</td>\n",
       "      <td>0.0</td>\n",
       "      <td>...</td>\n",
       "      <td>0.0</td>\n",
       "      <td>0.0</td>\n",
       "      <td>0.0</td>\n",
       "      <td>0.0</td>\n",
       "      <td>0.000000</td>\n",
       "      <td>0.0</td>\n",
       "      <td>0.0</td>\n",
       "      <td>0.0</td>\n",
       "      <td>0.0</td>\n",
       "      <td>1.0</td>\n",
       "    </tr>\n",
       "    <tr>\n",
       "      <th>8355</th>\n",
       "      <td>99999680</td>\n",
       "      <td>0.0</td>\n",
       "      <td>0.0</td>\n",
       "      <td>0.0</td>\n",
       "      <td>0.000000</td>\n",
       "      <td>0.0</td>\n",
       "      <td>0.0</td>\n",
       "      <td>0.0</td>\n",
       "      <td>0.0</td>\n",
       "      <td>0.0</td>\n",
       "      <td>...</td>\n",
       "      <td>0.0</td>\n",
       "      <td>0.0</td>\n",
       "      <td>0.0</td>\n",
       "      <td>0.0</td>\n",
       "      <td>0.000000</td>\n",
       "      <td>0.0</td>\n",
       "      <td>0.0</td>\n",
       "      <td>0.0</td>\n",
       "      <td>0.0</td>\n",
       "      <td>1.0</td>\n",
       "    </tr>\n",
       "  </tbody>\n",
       "</table>\n",
       "<p>8356 rows × 186 columns</p>\n",
       "</div>"
      ],
      "text/plain": [
       "       user_id  Авиалинии, авиакомпании  \\\n",
       "0        22899                      0.0   \n",
       "1        27914                      0.0   \n",
       "2        28753                      0.0   \n",
       "3        31385                      0.0   \n",
       "4        38084                      0.0   \n",
       "...        ...                      ...   \n",
       "8351  99953525                      0.0   \n",
       "8352  99967537                      0.0   \n",
       "8353  99988578                      0.0   \n",
       "8354  99991245                      0.0   \n",
       "8355  99999680                      0.0   \n",
       "\n",
       "      Авиалинии, авиакомпании, нигде более не классифицированные  \\\n",
       "0                                                   0.0            \n",
       "1                                                   0.0            \n",
       "2                                                   0.0            \n",
       "3                                                   0.0            \n",
       "4                                                   0.0            \n",
       "...                                                 ...            \n",
       "8351                                                0.0            \n",
       "8352                                                0.0            \n",
       "8353                                                0.0            \n",
       "8354                                                0.0            \n",
       "8355                                                0.0            \n",
       "\n",
       "      Автобусные линии  Автозапчасти и аксессуары  \\\n",
       "0                  0.0                   0.000000   \n",
       "1                  0.0                   0.000000   \n",
       "2                  0.0                   0.000000   \n",
       "3                  0.0                   0.000000   \n",
       "4                  0.0                   0.000000   \n",
       "...                ...                        ...   \n",
       "8351               0.0                   0.000000   \n",
       "8352               0.0                   0.000000   \n",
       "8353               0.0                   0.000000   \n",
       "8354               0.0                   0.010513   \n",
       "8355               0.0                   0.000000   \n",
       "\n",
       "      Автоматизированные бензозаправки  Автомойки  Автошины  \\\n",
       "0                                  0.0        0.0       0.0   \n",
       "1                                  0.0        0.0       0.0   \n",
       "2                                  0.0        0.0       0.0   \n",
       "3                                  0.0        0.0       0.0   \n",
       "4                                  0.0        0.0       0.0   \n",
       "...                                ...        ...       ...   \n",
       "8351                               0.0        0.0       0.0   \n",
       "8352                               0.0        0.0       0.0   \n",
       "8353                               0.0        0.0       0.0   \n",
       "8354                               0.0        0.0       0.0   \n",
       "8355                               0.0        0.0       0.0   \n",
       "\n",
       "      Агентства по автотранспортным перевозкам, местные/дальные автогрузоперевозки, компании попереезду и хранению, местная доставка  \\\n",
       "0                                                   0.0                                                                                \n",
       "1                                                   0.0                                                                                \n",
       "2                                                   0.0                                                                                \n",
       "3                                                   0.0                                                                                \n",
       "4                                                   0.0                                                                                \n",
       "...                                                 ...                                                                                \n",
       "8351                                                0.0                                                                                \n",
       "8352                                                0.0                                                                                \n",
       "8353                                                0.0                                                                                \n",
       "8354                                                0.0                                                                                \n",
       "8355                                                0.0                                                                                \n",
       "\n",
       "      Агентства по аренде автомобилей  ...  \\\n",
       "0                                 0.0  ...   \n",
       "1                                 0.0  ...   \n",
       "2                                 0.0  ...   \n",
       "3                                 0.0  ...   \n",
       "4                                 0.0  ...   \n",
       "...                               ...  ...   \n",
       "8351                              0.0  ...   \n",
       "8352                              0.0  ...   \n",
       "8353                              0.0  ...   \n",
       "8354                              0.0  ...   \n",
       "8355                              0.0  ...   \n",
       "\n",
       "      Химикалии и смежные вещества, не классифицированные ранее  Химчистки  \\\n",
       "0                                                   0.0                0.0   \n",
       "1                                                   0.0                0.0   \n",
       "2                                                   0.0                0.0   \n",
       "3                                                   0.0                0.0   \n",
       "4                                                   0.0                0.0   \n",
       "...                                                 ...                ...   \n",
       "8351                                                0.0                0.0   \n",
       "8352                                                0.0                0.0   \n",
       "8353                                                0.0                0.0   \n",
       "8354                                                0.0                0.0   \n",
       "8355                                                0.0                0.0   \n",
       "\n",
       "      Ценные бумаги: брокеры/дилеры  Центры здоровья  Цифровые товары, игры  \\\n",
       "0                               0.0              0.0               0.000000   \n",
       "1                               0.0              0.0               0.000000   \n",
       "2                               0.0              0.0               0.000000   \n",
       "3                               0.0              0.0               0.000000   \n",
       "4                               0.0              0.0               0.000000   \n",
       "...                             ...              ...                    ...   \n",
       "8351                            0.0              0.0               0.000000   \n",
       "8352                            0.0              0.0               0.000000   \n",
       "8353                            0.0              0.0               0.058444   \n",
       "8354                            0.0              0.0               0.000000   \n",
       "8355                            0.0              0.0               0.000000   \n",
       "\n",
       "      Школы — бизнес и секретарей  Штрафы  \\\n",
       "0                             0.0     0.0   \n",
       "1                             0.0     0.0   \n",
       "2                             0.0     0.0   \n",
       "3                             0.0     0.0   \n",
       "4                             0.0     0.0   \n",
       "...                           ...     ...   \n",
       "8351                          0.0     0.0   \n",
       "8352                          0.0     0.0   \n",
       "8353                          0.0     0.0   \n",
       "8354                          0.0     0.0   \n",
       "8355                          0.0     0.0   \n",
       "\n",
       "      Штучные товары, галантерея и другие текстильные товары  \\\n",
       "0                                                   0.0        \n",
       "1                                                   0.0        \n",
       "2                                                   0.0        \n",
       "3                                                   0.0        \n",
       "4                                                   0.0        \n",
       "...                                                 ...        \n",
       "8351                                                0.0        \n",
       "8352                                                0.0        \n",
       "8353                                                0.0        \n",
       "8354                                                0.0        \n",
       "8355                                                0.0        \n",
       "\n",
       "      Электрические части и оборудование  gender  \n",
       "0                                    0.0     1.0  \n",
       "1                                    0.0     1.0  \n",
       "2                                    0.0     0.0  \n",
       "3                                    0.0     0.0  \n",
       "4                                    0.0     0.0  \n",
       "...                                  ...     ...  \n",
       "8351                                 0.0     0.0  \n",
       "8352                                 0.0     1.0  \n",
       "8353                                 0.0     1.0  \n",
       "8354                                 0.0     1.0  \n",
       "8355                                 0.0     1.0  \n",
       "\n",
       "[8356 rows x 186 columns]"
      ]
     },
     "execution_count": 24,
     "metadata": {},
     "output_type": "execute_result"
    }
   ],
   "source": [
    "# приводим все к отрезку [0, 1] с помощью MinMaxScaler()\n",
    "\n",
    "MinMax = MinMaxScaler()\n",
    "columns = df_pivot_GenderJoined.columns.tolist()\n",
    "\n",
    "# создадим новый датасет с отнормированными данными\n",
    "\n",
    "df_scaled = pd.DataFrame(MinMax.fit_transform(df_pivot_GenderJoined), columns = columns)\n",
    "\n",
    "# так как у нас 'user_id' тоже отнормировалось вернем этой колонке прежний вид\n",
    "\n",
    "df_scaled['user_id'] = df_pivot_GenderJoined['user_id']\n",
    "df_scaled"
   ]
  },
  {
   "cell_type": "code",
   "execution_count": 25,
   "id": "833519b0",
   "metadata": {},
   "outputs": [],
   "source": [
    "# делаем разбиение по аналогии\n",
    "\n",
    "training_data_scaled, testing_data_scaled = train_test_split(df_scaled, test_size=0.2, random_state=1)\n",
    "\n",
    "# разделяем У на трейн и тест\n",
    "\n",
    "y_train_scaled = training_data_scaled['gender'].to_numpy()\n",
    "y_test_scaled = testing_data_scaled['gender'].to_numpy()\n",
    "\n",
    "# разделяем Х на трейн и тест\n",
    "\n",
    "X_train_scaled = training_data_scaled.drop('gender', axis=1).to_numpy()\n",
    "X_test_scaled = testing_data_scaled.drop('gender', axis=1).to_numpy()"
   ]
  },
  {
   "cell_type": "markdown",
   "id": "7adad023",
   "metadata": {
    "pycharm": {
     "name": "#%% md\n"
    }
   },
   "source": [
    "## Подбор параметров [15 баллов]"
   ]
  },
  {
   "cell_type": "markdown",
   "id": "e3a63257",
   "metadata": {
    "pycharm": {
     "name": "#%% md\n"
    }
   },
   "source": [
    "Подберите наилучшие параметры для модели логистической регрессии. Важные уточнения:\n",
    "\n",
    "* используйте перебор по сетке\n",
    "* в качестве метрики используйте ROC AUC\n",
    "* для оценки параметров делайте кросс-валидацию на 4 фолдах\n",
    "\n",
    "__Замечание__: у логистической регрессии множество доступных значений для некоторых параметров зависит от метода оптимизации (solver). Например, lbfgs-алгоритм не подерживает l1-регуляризацию.\n",
    "\n",
    "Поэтому действуйте шагами: сначала подберите solver, а потом уже переберите доступные для него параметры."
   ]
  },
  {
   "cell_type": "markdown",
   "id": "9314c177",
   "metadata": {},
   "source": [
    "_пару комментов решил добавить, почему я выбрал именно такие значения в параметры_\n",
    "\n",
    "_чтобы код не запускался 100500 лет, решил ограничиться буквально несколькими вариантами параметров для дальнейшего поиска по сетке (да, знаю, что он все равно довольно долго запускается, но из всего, что перепробовал это самый быстрый вариант)_\n",
    "\n",
    "- _для метода оптимизации_ __(_'solver'_)__ _я остановился на_ __'_liblinear_', '_sag_'__ _и_ __'_saga_'__. _Добавил именно эти метод, так как_ ___'liblinear'___ _работает как с гребанной регуляризацией_ ___(Ridge, L1)___, _так и с лассо_ ___(Lasso, L2)__, __'sag'___ _только с_ ___L2___, _а_ __'_saga_'__ _в случае, когда используется и тот и другой метод регуляризации_ ___(elasticnet)___\n",
    "- _добавил также все три вида регуляризации __(penalty)__ __('l1', 'l2', 'elasticnet')___\n",
    "- _коэффициент регуляризации ___(C)___ я натыкал наобум_ (◕‿◕)"
   ]
  },
  {
   "cell_type": "code",
   "execution_count": 26,
   "id": "8198a4c5",
   "metadata": {
    "pycharm": {
     "name": "#%%\n"
    },
    "scrolled": true
   },
   "outputs": [
    {
     "data": {
      "text/html": [
       "<style>#sk-container-id-1 {color: black;background-color: white;}#sk-container-id-1 pre{padding: 0;}#sk-container-id-1 div.sk-toggleable {background-color: white;}#sk-container-id-1 label.sk-toggleable__label {cursor: pointer;display: block;width: 100%;margin-bottom: 0;padding: 0.3em;box-sizing: border-box;text-align: center;}#sk-container-id-1 label.sk-toggleable__label-arrow:before {content: \"▸\";float: left;margin-right: 0.25em;color: #696969;}#sk-container-id-1 label.sk-toggleable__label-arrow:hover:before {color: black;}#sk-container-id-1 div.sk-estimator:hover label.sk-toggleable__label-arrow:before {color: black;}#sk-container-id-1 div.sk-toggleable__content {max-height: 0;max-width: 0;overflow: hidden;text-align: left;background-color: #f0f8ff;}#sk-container-id-1 div.sk-toggleable__content pre {margin: 0.2em;color: black;border-radius: 0.25em;background-color: #f0f8ff;}#sk-container-id-1 input.sk-toggleable__control:checked~div.sk-toggleable__content {max-height: 200px;max-width: 100%;overflow: auto;}#sk-container-id-1 input.sk-toggleable__control:checked~label.sk-toggleable__label-arrow:before {content: \"▾\";}#sk-container-id-1 div.sk-estimator input.sk-toggleable__control:checked~label.sk-toggleable__label {background-color: #d4ebff;}#sk-container-id-1 div.sk-label input.sk-toggleable__control:checked~label.sk-toggleable__label {background-color: #d4ebff;}#sk-container-id-1 input.sk-hidden--visually {border: 0;clip: rect(1px 1px 1px 1px);clip: rect(1px, 1px, 1px, 1px);height: 1px;margin: -1px;overflow: hidden;padding: 0;position: absolute;width: 1px;}#sk-container-id-1 div.sk-estimator {font-family: monospace;background-color: #f0f8ff;border: 1px dotted black;border-radius: 0.25em;box-sizing: border-box;margin-bottom: 0.5em;}#sk-container-id-1 div.sk-estimator:hover {background-color: #d4ebff;}#sk-container-id-1 div.sk-parallel-item::after {content: \"\";width: 100%;border-bottom: 1px solid gray;flex-grow: 1;}#sk-container-id-1 div.sk-label:hover label.sk-toggleable__label {background-color: #d4ebff;}#sk-container-id-1 div.sk-serial::before {content: \"\";position: absolute;border-left: 1px solid gray;box-sizing: border-box;top: 0;bottom: 0;left: 50%;z-index: 0;}#sk-container-id-1 div.sk-serial {display: flex;flex-direction: column;align-items: center;background-color: white;padding-right: 0.2em;padding-left: 0.2em;position: relative;}#sk-container-id-1 div.sk-item {position: relative;z-index: 1;}#sk-container-id-1 div.sk-parallel {display: flex;align-items: stretch;justify-content: center;background-color: white;position: relative;}#sk-container-id-1 div.sk-item::before, #sk-container-id-1 div.sk-parallel-item::before {content: \"\";position: absolute;border-left: 1px solid gray;box-sizing: border-box;top: 0;bottom: 0;left: 50%;z-index: -1;}#sk-container-id-1 div.sk-parallel-item {display: flex;flex-direction: column;z-index: 1;position: relative;background-color: white;}#sk-container-id-1 div.sk-parallel-item:first-child::after {align-self: flex-end;width: 50%;}#sk-container-id-1 div.sk-parallel-item:last-child::after {align-self: flex-start;width: 50%;}#sk-container-id-1 div.sk-parallel-item:only-child::after {width: 0;}#sk-container-id-1 div.sk-dashed-wrapped {border: 1px dashed gray;margin: 0 0.4em 0.5em 0.4em;box-sizing: border-box;padding-bottom: 0.4em;background-color: white;}#sk-container-id-1 div.sk-label label {font-family: monospace;font-weight: bold;display: inline-block;line-height: 1.2em;}#sk-container-id-1 div.sk-label-container {text-align: center;}#sk-container-id-1 div.sk-container {/* jupyter's `normalize.less` sets `[hidden] { display: none; }` but bootstrap.min.css set `[hidden] { display: none !important; }` so we also need the `!important` here to be able to override the default hidden behavior on the sphinx rendered scikit-learn.org. See: https://github.com/scikit-learn/scikit-learn/issues/21755 */display: inline-block !important;position: relative;}#sk-container-id-1 div.sk-text-repr-fallback {display: none;}</style><div id=\"sk-container-id-1\" class=\"sk-top-container\"><div class=\"sk-text-repr-fallback\"><pre>GridSearchCV(cv=4, estimator=LogisticRegression(),\n",
       "             param_grid={&#x27;solver&#x27;: [&#x27;liblinear&#x27;, &#x27;sag&#x27;, &#x27;saga&#x27;]},\n",
       "             scoring=&#x27;roc_auc&#x27;)</pre><b>In a Jupyter environment, please rerun this cell to show the HTML representation or trust the notebook. <br />On GitHub, the HTML representation is unable to render, please try loading this page with nbviewer.org.</b></div><div class=\"sk-container\" hidden><div class=\"sk-item sk-dashed-wrapped\"><div class=\"sk-label-container\"><div class=\"sk-label sk-toggleable\"><input class=\"sk-toggleable__control sk-hidden--visually\" id=\"sk-estimator-id-1\" type=\"checkbox\" ><label for=\"sk-estimator-id-1\" class=\"sk-toggleable__label sk-toggleable__label-arrow\">GridSearchCV</label><div class=\"sk-toggleable__content\"><pre>GridSearchCV(cv=4, estimator=LogisticRegression(),\n",
       "             param_grid={&#x27;solver&#x27;: [&#x27;liblinear&#x27;, &#x27;sag&#x27;, &#x27;saga&#x27;]},\n",
       "             scoring=&#x27;roc_auc&#x27;)</pre></div></div></div><div class=\"sk-parallel\"><div class=\"sk-parallel-item\"><div class=\"sk-item\"><div class=\"sk-label-container\"><div class=\"sk-label sk-toggleable\"><input class=\"sk-toggleable__control sk-hidden--visually\" id=\"sk-estimator-id-2\" type=\"checkbox\" ><label for=\"sk-estimator-id-2\" class=\"sk-toggleable__label sk-toggleable__label-arrow\">estimator: LogisticRegression</label><div class=\"sk-toggleable__content\"><pre>LogisticRegression()</pre></div></div></div><div class=\"sk-serial\"><div class=\"sk-item\"><div class=\"sk-estimator sk-toggleable\"><input class=\"sk-toggleable__control sk-hidden--visually\" id=\"sk-estimator-id-3\" type=\"checkbox\" ><label for=\"sk-estimator-id-3\" class=\"sk-toggleable__label sk-toggleable__label-arrow\">LogisticRegression</label><div class=\"sk-toggleable__content\"><pre>LogisticRegression()</pre></div></div></div></div></div></div></div></div></div></div>"
      ],
      "text/plain": [
       "GridSearchCV(cv=4, estimator=LogisticRegression(),\n",
       "             param_grid={'solver': ['liblinear', 'sag', 'saga']},\n",
       "             scoring='roc_auc')"
      ]
     },
     "execution_count": 26,
     "metadata": {},
     "output_type": "execute_result"
    }
   ],
   "source": [
    "# делаем, что велено выше и пилим поиск по сетке\n",
    "\n",
    "param_grid = {\n",
    "    'solver': ['liblinear', 'sag', 'saga']\n",
    "}\n",
    "\n",
    "searcher = GridSearchCV(\n",
    "    model, param_grid, \n",
    "    scoring='roc_auc', cv=4\n",
    ")\n",
    "\n",
    "searcher.fit(X_train_scaled, y_train_scaled)"
   ]
  },
  {
   "cell_type": "code",
   "execution_count": 27,
   "id": "1e9ecf57",
   "metadata": {},
   "outputs": [
    {
     "name": "stdout",
     "output_type": "stream",
     "text": [
      "{'solver': 'liblinear'}\n"
     ]
    }
   ],
   "source": [
    "# получили наш solver\n",
    "\n",
    "print(searcher.best_params_)"
   ]
  },
  {
   "cell_type": "code",
   "execution_count": 28,
   "id": "9feeaa1f",
   "metadata": {},
   "outputs": [
    {
     "data": {
      "text/html": [
       "<style>#sk-container-id-2 {color: black;background-color: white;}#sk-container-id-2 pre{padding: 0;}#sk-container-id-2 div.sk-toggleable {background-color: white;}#sk-container-id-2 label.sk-toggleable__label {cursor: pointer;display: block;width: 100%;margin-bottom: 0;padding: 0.3em;box-sizing: border-box;text-align: center;}#sk-container-id-2 label.sk-toggleable__label-arrow:before {content: \"▸\";float: left;margin-right: 0.25em;color: #696969;}#sk-container-id-2 label.sk-toggleable__label-arrow:hover:before {color: black;}#sk-container-id-2 div.sk-estimator:hover label.sk-toggleable__label-arrow:before {color: black;}#sk-container-id-2 div.sk-toggleable__content {max-height: 0;max-width: 0;overflow: hidden;text-align: left;background-color: #f0f8ff;}#sk-container-id-2 div.sk-toggleable__content pre {margin: 0.2em;color: black;border-radius: 0.25em;background-color: #f0f8ff;}#sk-container-id-2 input.sk-toggleable__control:checked~div.sk-toggleable__content {max-height: 200px;max-width: 100%;overflow: auto;}#sk-container-id-2 input.sk-toggleable__control:checked~label.sk-toggleable__label-arrow:before {content: \"▾\";}#sk-container-id-2 div.sk-estimator input.sk-toggleable__control:checked~label.sk-toggleable__label {background-color: #d4ebff;}#sk-container-id-2 div.sk-label input.sk-toggleable__control:checked~label.sk-toggleable__label {background-color: #d4ebff;}#sk-container-id-2 input.sk-hidden--visually {border: 0;clip: rect(1px 1px 1px 1px);clip: rect(1px, 1px, 1px, 1px);height: 1px;margin: -1px;overflow: hidden;padding: 0;position: absolute;width: 1px;}#sk-container-id-2 div.sk-estimator {font-family: monospace;background-color: #f0f8ff;border: 1px dotted black;border-radius: 0.25em;box-sizing: border-box;margin-bottom: 0.5em;}#sk-container-id-2 div.sk-estimator:hover {background-color: #d4ebff;}#sk-container-id-2 div.sk-parallel-item::after {content: \"\";width: 100%;border-bottom: 1px solid gray;flex-grow: 1;}#sk-container-id-2 div.sk-label:hover label.sk-toggleable__label {background-color: #d4ebff;}#sk-container-id-2 div.sk-serial::before {content: \"\";position: absolute;border-left: 1px solid gray;box-sizing: border-box;top: 0;bottom: 0;left: 50%;z-index: 0;}#sk-container-id-2 div.sk-serial {display: flex;flex-direction: column;align-items: center;background-color: white;padding-right: 0.2em;padding-left: 0.2em;position: relative;}#sk-container-id-2 div.sk-item {position: relative;z-index: 1;}#sk-container-id-2 div.sk-parallel {display: flex;align-items: stretch;justify-content: center;background-color: white;position: relative;}#sk-container-id-2 div.sk-item::before, #sk-container-id-2 div.sk-parallel-item::before {content: \"\";position: absolute;border-left: 1px solid gray;box-sizing: border-box;top: 0;bottom: 0;left: 50%;z-index: -1;}#sk-container-id-2 div.sk-parallel-item {display: flex;flex-direction: column;z-index: 1;position: relative;background-color: white;}#sk-container-id-2 div.sk-parallel-item:first-child::after {align-self: flex-end;width: 50%;}#sk-container-id-2 div.sk-parallel-item:last-child::after {align-self: flex-start;width: 50%;}#sk-container-id-2 div.sk-parallel-item:only-child::after {width: 0;}#sk-container-id-2 div.sk-dashed-wrapped {border: 1px dashed gray;margin: 0 0.4em 0.5em 0.4em;box-sizing: border-box;padding-bottom: 0.4em;background-color: white;}#sk-container-id-2 div.sk-label label {font-family: monospace;font-weight: bold;display: inline-block;line-height: 1.2em;}#sk-container-id-2 div.sk-label-container {text-align: center;}#sk-container-id-2 div.sk-container {/* jupyter's `normalize.less` sets `[hidden] { display: none; }` but bootstrap.min.css set `[hidden] { display: none !important; }` so we also need the `!important` here to be able to override the default hidden behavior on the sphinx rendered scikit-learn.org. See: https://github.com/scikit-learn/scikit-learn/issues/21755 */display: inline-block !important;position: relative;}#sk-container-id-2 div.sk-text-repr-fallback {display: none;}</style><div id=\"sk-container-id-2\" class=\"sk-top-container\"><div class=\"sk-text-repr-fallback\"><pre>GridSearchCV(cv=4, estimator=LogisticRegression(),\n",
       "             param_grid={&#x27;C&#x27;: [0.5, 1, 1.5],\n",
       "                         &#x27;penalty&#x27;: [&#x27;l1&#x27;, &#x27;l2&#x27;, &#x27;elasticnet&#x27;],\n",
       "                         &#x27;solver&#x27;: [&#x27;liblinear&#x27;]},\n",
       "             scoring=&#x27;roc_auc&#x27;)</pre><b>In a Jupyter environment, please rerun this cell to show the HTML representation or trust the notebook. <br />On GitHub, the HTML representation is unable to render, please try loading this page with nbviewer.org.</b></div><div class=\"sk-container\" hidden><div class=\"sk-item sk-dashed-wrapped\"><div class=\"sk-label-container\"><div class=\"sk-label sk-toggleable\"><input class=\"sk-toggleable__control sk-hidden--visually\" id=\"sk-estimator-id-4\" type=\"checkbox\" ><label for=\"sk-estimator-id-4\" class=\"sk-toggleable__label sk-toggleable__label-arrow\">GridSearchCV</label><div class=\"sk-toggleable__content\"><pre>GridSearchCV(cv=4, estimator=LogisticRegression(),\n",
       "             param_grid={&#x27;C&#x27;: [0.5, 1, 1.5],\n",
       "                         &#x27;penalty&#x27;: [&#x27;l1&#x27;, &#x27;l2&#x27;, &#x27;elasticnet&#x27;],\n",
       "                         &#x27;solver&#x27;: [&#x27;liblinear&#x27;]},\n",
       "             scoring=&#x27;roc_auc&#x27;)</pre></div></div></div><div class=\"sk-parallel\"><div class=\"sk-parallel-item\"><div class=\"sk-item\"><div class=\"sk-label-container\"><div class=\"sk-label sk-toggleable\"><input class=\"sk-toggleable__control sk-hidden--visually\" id=\"sk-estimator-id-5\" type=\"checkbox\" ><label for=\"sk-estimator-id-5\" class=\"sk-toggleable__label sk-toggleable__label-arrow\">estimator: LogisticRegression</label><div class=\"sk-toggleable__content\"><pre>LogisticRegression()</pre></div></div></div><div class=\"sk-serial\"><div class=\"sk-item\"><div class=\"sk-estimator sk-toggleable\"><input class=\"sk-toggleable__control sk-hidden--visually\" id=\"sk-estimator-id-6\" type=\"checkbox\" ><label for=\"sk-estimator-id-6\" class=\"sk-toggleable__label sk-toggleable__label-arrow\">LogisticRegression</label><div class=\"sk-toggleable__content\"><pre>LogisticRegression()</pre></div></div></div></div></div></div></div></div></div></div>"
      ],
      "text/plain": [
       "GridSearchCV(cv=4, estimator=LogisticRegression(),\n",
       "             param_grid={'C': [0.5, 1, 1.5],\n",
       "                         'penalty': ['l1', 'l2', 'elasticnet'],\n",
       "                         'solver': ['liblinear']},\n",
       "             scoring='roc_auc')"
      ]
     },
     "execution_count": 28,
     "metadata": {},
     "output_type": "execute_result"
    }
   ],
   "source": [
    "# теперь ищем еще несколько параметров\n",
    "params_with_solver = {\n",
    "    'solver': ['liblinear'],\n",
    "    'penalty': ['l1', 'l2', 'elasticnet'],\n",
    "    'C': [0.5, 1, 1.5]\n",
    "}\n",
    "\n",
    "searcher_with_solver = GridSearchCV(\n",
    "    model, params_with_solver, \n",
    "    scoring='roc_auc', cv=4\n",
    ")\n",
    "\n",
    "searcher_with_solver.fit(X_train_scaled, y_train_scaled)"
   ]
  },
  {
   "cell_type": "code",
   "execution_count": 29,
   "id": "1071a8e3",
   "metadata": {},
   "outputs": [
    {
     "name": "stdout",
     "output_type": "stream",
     "text": [
      "{'C': 1.5, 'penalty': 'l1', 'solver': 'liblinear'}\n"
     ]
    }
   ],
   "source": [
    "print(searcher_with_solver.best_params_)"
   ]
  },
  {
   "cell_type": "markdown",
   "id": "d6c296ef",
   "metadata": {
    "pycharm": {
     "name": "#%% md\n"
    }
   },
   "source": [
    "Оцените качество лучшей модели на тестовых данных аналогично предыдущим задачам."
   ]
  },
  {
   "cell_type": "code",
   "execution_count": 30,
   "id": "f11a6748",
   "metadata": {},
   "outputs": [
    {
     "data": {
      "text/plain": [
       "0.8081501565943625"
      ]
     },
     "execution_count": 30,
     "metadata": {},
     "output_type": "execute_result"
    }
   ],
   "source": [
    "# подставляем новые значения\n",
    "\n",
    "searcher_with_solver.score(X_test_scaled, y_test_scaled)"
   ]
  },
  {
   "cell_type": "code",
   "execution_count": 31,
   "id": "b37134e5",
   "metadata": {},
   "outputs": [
    {
     "name": "stdout",
     "output_type": "stream",
     "text": [
      "ROC-AUC = 0.8081501565943625\n",
      "Accuracy = 0.722488038277512\n",
      "Precision = 0.7816326530612245\n",
      "Recall = 0.5175675675675676\n"
     ]
    }
   ],
   "source": [
    "# считаем метрики\n",
    "\n",
    "p_pred_scaled = searcher_with_solver.predict_proba(X_test_scaled)[:, 1]\n",
    "\n",
    "y_pred_scaled = 1*(p_pred_scaled >= t) \n",
    "\n",
    "roc_auc = roc_auc_score(y_test_scaled, p_pred_scaled)\n",
    "\n",
    "accuracy = accuracy_score(y_test_scaled, y_pred_scaled)\n",
    "\n",
    "precision = precision_score(y_test_scaled, y_pred_scaled)\n",
    "\n",
    "recall = recall_score(y_test_scaled, y_pred_scaled)\n",
    "\n",
    "print(f'ROC-AUC = {roc_auc}', f'Accuracy = {accuracy}', f'Precision = {precision}', f'Recall = {recall}', sep='\\n')"
   ]
  },
  {
   "cell_type": "code",
   "execution_count": 32,
   "id": "d8e3753e",
   "metadata": {},
   "outputs": [
    {
     "data": {
      "image/png": "[encoded data removed]",
      "text/plain": [
       "<Figure size 700x700 with 1 Axes>"
      ]
     },
     "metadata": {},
     "output_type": "display_data"
    }
   ],
   "source": [
    "# вновь пользуемся кодом того, чье имя нельзя произносить вслух, для визуализации нашей кривой\n",
    "\n",
    "def roc_auc_pic_new(y_test_scaled, y_pred_scaled):    \n",
    "    fpr_test_new, tpr_test_new, thresholds_test_new = roc_curve(y_test_scaled, p_pred_scaled)\n",
    "    roc_auc_test_new = roc_auc_score(y_test_scaled, p_pred_scaled)\n",
    "\n",
    "    plt.figure(figsize=(7, 7))\n",
    "    plt.plot(fpr_test_new, tpr_test_new, label='Test ROC-AUC {0}'.format(roc_auc_test_new))\n",
    "    plt.plot([0, 1], [0, 1], '--', color=(0.8, 0.8, 0.8))\n",
    "    plt.xlim([0, 1])\n",
    "    plt.ylim([0, 1])\n",
    "    plt.xlabel('False Positive Rate')\n",
    "    plt.ylabel('True Positive Rate')\n",
    "    plt.legend(loc='lower right');\n",
    "    \n",
    "    \n",
    "roc_auc_pic_new(y_test_scaled, p_pred_scaled)"
   ]
  },
  {
   "cell_type": "markdown",
   "id": "a5f49648",
   "metadata": {
    "pycharm": {
     "name": "#%% md\n"
    }
   },
   "source": [
    "Получилось ли добиться лучше качества при подборе параметров?\n",
    "Почему так? \n",
    "\n",
    "Для чего мы использовали одновременно кросс-валидацию и отложенную тестовую выборку?\n",
    "\n",
    "__Ваш вывод__: _качество значительно улучшилось, так как теперь, мы нашли наилучшие параметры и уже с ними обучили нашу модель. для того, что объективно оценить нашу модель необходимо было отделить тестовую выборку, дабы впоследствии не опасаться за то, что данные из тестовой выборки попадутся при выборе параметров нашей модели, а этого быть не должно_"
   ]
  },
  {
   "cell_type": "markdown",
   "id": "4db51ec9",
   "metadata": {
    "pycharm": {
     "name": "#%% md\n"
    }
   },
   "source": [
    "## Подбор отсечения [5 баллов]"
   ]
  },
  {
   "cell_type": "markdown",
   "id": "9b9d5678",
   "metadata": {
    "pycharm": {
     "name": "#%% md\n"
    }
   },
   "source": [
    "Ранее мы работали или с вероятностями из модели или с метками, полученных при отсечении по веростности с порогом 0.5.\n",
    "\n",
    "Стоит сказать, что порог 0.5 для разделения классов не всегда самый лучший. Часто нам нужно так подобрать порог, чтобы удовлетворить наши требования по точности и полноте.\n",
    "\n",
    "Давайте подберём порог, который максимизирует F_beta меру при условии, что нам полнота в 5 раз важнее точности.\n",
    "\n",
    "Вычислите наилучший порог и нарисуйте график зависимости этой метрики от порога разделения."
   ]
  },
  {
   "cell_type": "code",
   "execution_count": 35,
   "id": "f3159e48",
   "metadata": {
    "scrolled": false
   },
   "outputs": [
    {
     "name": "stdout",
     "output_type": "stream",
     "text": [
      "Лучший порог = 0.0\n"
     ]
    },
    {
     "data": {
      "text/html": [
       "<div>\n",
       "<style scoped>\n",
       "    .dataframe tbody tr th:only-of-type {\n",
       "        vertical-align: middle;\n",
       "    }\n",
       "\n",
       "    .dataframe tbody tr th {\n",
       "        vertical-align: top;\n",
       "    }\n",
       "\n",
       "    .dataframe thead th {\n",
       "        text-align: right;\n",
       "    }\n",
       "</style>\n",
       "<table border=\"1\" class=\"dataframe\">\n",
       "  <thead>\n",
       "    <tr style=\"text-align: right;\">\n",
       "      <th></th>\n",
       "      <th>F-5</th>\n",
       "      <th>t</th>\n",
       "    </tr>\n",
       "  </thead>\n",
       "  <tbody>\n",
       "    <tr>\n",
       "      <th>0</th>\n",
       "      <td>0.953797</td>\n",
       "      <td>0.00</td>\n",
       "    </tr>\n",
       "    <tr>\n",
       "      <th>1</th>\n",
       "      <td>0.952149</td>\n",
       "      <td>0.01</td>\n",
       "    </tr>\n",
       "    <tr>\n",
       "      <th>2</th>\n",
       "      <td>0.950179</td>\n",
       "      <td>0.02</td>\n",
       "    </tr>\n",
       "    <tr>\n",
       "      <th>3</th>\n",
       "      <td>0.949784</td>\n",
       "      <td>0.03</td>\n",
       "    </tr>\n",
       "    <tr>\n",
       "      <th>4</th>\n",
       "      <td>0.948915</td>\n",
       "      <td>0.04</td>\n",
       "    </tr>\n",
       "    <tr>\n",
       "      <th>...</th>\n",
       "      <td>...</td>\n",
       "      <td>...</td>\n",
       "    </tr>\n",
       "    <tr>\n",
       "      <th>95</th>\n",
       "      <td>0.075655</td>\n",
       "      <td>0.95</td>\n",
       "    </tr>\n",
       "    <tr>\n",
       "      <th>96</th>\n",
       "      <td>0.061678</td>\n",
       "      <td>0.96</td>\n",
       "    </tr>\n",
       "    <tr>\n",
       "      <th>97</th>\n",
       "      <td>0.049086</td>\n",
       "      <td>0.97</td>\n",
       "    </tr>\n",
       "    <tr>\n",
       "      <th>98</th>\n",
       "      <td>0.039286</td>\n",
       "      <td>0.98</td>\n",
       "    </tr>\n",
       "    <tr>\n",
       "      <th>99</th>\n",
       "      <td>0.028073</td>\n",
       "      <td>0.99</td>\n",
       "    </tr>\n",
       "  </tbody>\n",
       "</table>\n",
       "<p>100 rows × 2 columns</p>\n",
       "</div>"
      ],
      "text/plain": [
       "         F-5     t\n",
       "0   0.953797  0.00\n",
       "1   0.952149  0.01\n",
       "2   0.950179  0.02\n",
       "3   0.949784  0.03\n",
       "4   0.948915  0.04\n",
       "..       ...   ...\n",
       "95  0.075655  0.95\n",
       "96  0.061678  0.96\n",
       "97  0.049086  0.97\n",
       "98  0.039286  0.98\n",
       "99  0.028073  0.99\n",
       "\n",
       "[100 rows x 2 columns]"
      ]
     },
     "execution_count": 35,
     "metadata": {},
     "output_type": "execute_result"
    }
   ],
   "source": [
    "# значение beta для F-бета меры. Так как полнота в 5 раз важнее точности -> мы получаем F-5 меру\n",
    "beta = 5 \n",
    "\n",
    "# создадим пустые листы для датасета, который будем визуализировать\n",
    "t_score = []\n",
    "f_score = []\n",
    "\n",
    "# предсказываем вероятность первого класса \n",
    "p_pred = searcher_with_solver.predict_proba(X_test_scaled)[:, 1]\n",
    "\n",
    "# Инициализация переменных\n",
    "best_threshold = 0\n",
    "best_fbeta_score = 0\n",
    "\n",
    "# Перебор порогов от 0 до 1 с шагом 0.01\n",
    "for threshold in range(0, 100):\n",
    "    threshold /= 100\n",
    "    \n",
    "    #добавили значения порогая, для дальнейшей визуализации\n",
    "    t_score.append(threshold)\n",
    "    \n",
    "    # ищем метки классов, как в примерах выше\n",
    "    y_pred = (p_pred > threshold).astype(int)\n",
    "    \n",
    "    # вычислили f-5 меру по формуле \n",
    "    precision = precision_score(y_test_scaled, y_pred)\n",
    "    recall = recall_score(y_test_scaled, y_pred)\n",
    "    fbeta = (1 + beta**2) * (precision * recall) / ((beta**2 * precision) + recall)\n",
    "    \n",
    "    # добавляем значение f-меры в лист для дальнейшей визуализации\n",
    "    f_score.append(fbeta)\n",
    "    \n",
    "    # Обновление лучшего порога и f-меры\n",
    "    if fbeta > best_fbeta_score:\n",
    "        best_fbeta_score = fbeta\n",
    "        best_threshold = threshold\n",
    "\n",
    "# Использование лучшего порога для предсказания меток классов\n",
    "y_pred = (p_pred > best_threshold).astype(int)\n",
    "\n",
    "print(f'Лучший порог = {best_threshold}')\n",
    "df_fbeta = pd.DataFrame()\n",
    "df_fbeta['F-5'] = f_score\n",
    "df_fbeta['t'] = t_score"
   ]
  },
  {
   "cell_type": "code",
   "execution_count": 36,
   "id": "cdc58263",
   "metadata": {},
   "outputs": [
    {
     "data": {
      "image/png": "[encoded data removed]",
      "text/plain": [
       "<Figure size 640x480 with 1 Axes>"
      ]
     },
     "metadata": {},
     "output_type": "display_data"
    }
   ],
   "source": [
    "# изобразим на графике то, как изменяется f-мера в зависимости от порога\n",
    "# можем заметить, что максимальное значение f-мера принимает при минимальном пороге (равном 0), что довольно очевидно\n",
    "# заметим также, что после порога в 0.42 начинает резкий спуск, из-за чего можно использовать это значение в 4 части\n",
    "\n",
    "sns.lineplot(df_fbeta, x='t', y='F-5').set(title='F-5 мера в зависимости от порога')\n",
    "df_fbeta['F-5'].max()\n",
    "plt.xlabel('t')\n",
    "plt.ylabel('F-5');"
   ]
  },
  {
   "cell_type": "markdown",
   "id": "9692dde3",
   "metadata": {
    "pycharm": {
     "name": "#%% md\n"
    }
   },
   "source": [
    "## Интерпретация модели [5 баллов]"
   ]
  },
  {
   "cell_type": "markdown",
   "id": "fda297e1",
   "metadata": {
    "pycharm": {
     "name": "#%% md\n"
    }
   },
   "source": [
    "Часто нам хочется интерпритировать предсказания модели - понять, как наши признаки влияют на её ответ.\n",
    "В случае сложных моделей сделать это не просто - чем сложнее модель, тем более сложные закономерности она извлекает и тем тяжелее нам их понять.\n",
    "\n",
    "Но в случае логистической регресии это просто сделать, посмотрев на её обучаемые параметры (вспоминайте!).\n",
    "\n",
    "Получите список признаков, которые увеличивают вероятность метки 0.\n",
    "Аналогично для метки 1."
   ]
  },
  {
   "cell_type": "code",
   "execution_count": 37,
   "id": "2625f3ef",
   "metadata": {
    "pycharm": {
     "name": "#%%\n"
    },
    "scrolled": false
   },
   "outputs": [
    {
     "name": "stdout",
     "output_type": "stream",
     "text": [
      "Стоматологическое/лабороторное/медицинское/офтальмологическое стационарное оборудование и устройства\n",
      "Магазины спорттоваров\n",
      "Розничная продажа стекла, красок и обоев\n",
      "Транспортировка — пригородные и локальные сезонные транспортные средства, включая электрички\n",
      "Готовая женская одежда\n",
      "Автоматизированные бензозаправки\n",
      "Лимузины и такси\n",
      "Генеральные подрядчики по вентиляции, теплоснабжению, и водопроводу\n",
      "Магазины игрушек\n",
      "Мужская одежда и аксессуары, включая одежду для мальчиков\n",
      "Беспошлинные магазины Duty Free\n"
     ]
    }
   ],
   "source": [
    "# получаем коэффициенты модели\n",
    "coef = model.coef_[0]\n",
    "\n",
    "# создаем список категорий товаров и их весов\n",
    "# здесь мы использовали список категорий товаров, который мы создали выше\n",
    "features_weights = list(zip(features, coef))\n",
    "\n",
    "# сортируем список по убыванию весов\n",
    "sorted_features_weights = sorted(features_weights, key=lambda x: x[1], reverse=True)\n",
    "\n",
    "# получаем список признаков, которые увеличивают вероятность метки 1\n",
    "top_features = [feature for feature, weight in sorted_features_weights if weight > 0]\n",
    "\n",
    "print(*top_features[:11], sep='\\n')"
   ]
  },
  {
   "cell_type": "code",
   "execution_count": 38,
   "id": "3f0d0279",
   "metadata": {
    "pycharm": {
     "name": "#%%\n"
    }
   },
   "outputs": [
    {
     "name": "stdout",
     "output_type": "stream",
     "text": [
      "Ассоциации — гражданские, социальные и братские\n",
      "Магазины мужской и женской одежды\n",
      "Прямой маркетинг — торговые точки подписки\n",
      "Ремонт бытовой техники, ремонт электроприборы\n",
      "Магазины открыток, подарков, новинок и сувениров\n",
      "Прямой маркетинг — входящий телемаркетинг\n",
      "Оптика, оптические товары и очки\n",
      "Общий ремонт\n",
      "Магазины по продаже часов, ювелирных изделий и изделий из серебра\n",
      "Различные продовольственные магазины — рынки, магазины со спец-ассортиментом, продажа полуфабрикатов, фирменных блюд, продажа с помощью торговых автоматов\n",
      "Товары недлительного пользования, не классифицированные ранее\n"
     ]
    }
   ],
   "source": [
    "# тут все делаем по аналогии только уже для метки 0\n",
    "sorted_features_weights = sorted(features_weights, key=lambda x: x[1])\n",
    "\n",
    "top_features = [feature for feature, weight in sorted_features_weights if weight < 0]\n",
    "\n",
    "print(*top_features[:11], sep='\\n')"
   ]
  },
  {
   "cell_type": "markdown",
   "id": "93723beb",
   "metadata": {
    "pycharm": {
     "name": "#%% md\n"
    }
   },
   "source": [
    "# Часть 4: ва-банк / пространство для творчества [макс 30 баллов]"
   ]
  },
  {
   "cell_type": "markdown",
   "id": "97dc0173",
   "metadata": {
    "pycharm": {
     "name": "#%% md\n"
    }
   },
   "source": [
    "Добейтесь максимального качества, больше качество - больше баллов.\n",
    "\n",
    "Стратегия подготовки данных и обучения модели на ваше усмотрение.\n",
    "\n",
    "Условия:\n",
    "* Оценка на отложенной тестовой группе пользователей, использовавшейся в прошлых пунктах (20%)\n",
    "* В качестве метрики используйте ROC_AUC\n",
    "\n",
    "__Замечание__: \n",
    "\n",
    "Ответа на вопрос \"какое нужно качество для максимального балла?\" не будет.\n",
    "\n",
    "Используйте все свои знания, чтобы добиться наилучшего результата."
   ]
  },
  {
   "cell_type": "markdown",
   "id": "14cc6811",
   "metadata": {},
   "source": [
    "_воспользуемся новым найденым порогом в 0.42_\n",
    "\n",
    "_попробуем немного пойти дальше ныне изученного материала и использовать случайные леса.\n",
    "дабы не было лишних вопрос, попытаюсь объяснить, как я понимаю механизм работы этого метода. случайный лес состоит из большого количества древ решений, которые упоминалось также на тервере в начале года, из-за чего долго на них останавливаться не буду, добавлю лишь, что правило, по которому будет производится отбор называется \"узлом\", а варианты исхода \"листьями\". В ходе нахождения параметров, мы прописываем максимальную глубину, число объектов в листьях, количество деревьев. в случае, когда мы используем большое количество такого рода деревьев результаты получаются лучше. проблемой может стать переобучение моделей_ \n",
    "\n",
    "_посмотрим как будут меняться результаты по отношению к результатам логистической регрессии. все будем делать по аналогии: сначала с изначальными данными, потом по отнормированным категориям, а после уже найдем оптимальные параметры с помощью GreadSearch._"
   ]
  },
  {
   "cell_type": "code",
   "execution_count": 39,
   "id": "e442c16f",
   "metadata": {
    "pycharm": {
     "name": "#%%\n"
    }
   },
   "outputs": [
    {
     "name": "stdout",
     "output_type": "stream",
     "text": [
      "ROC-AUC = 0.551182320441989\n",
      "Accuracy = 0.5285714285714286\n",
      "Precision = 0.49075081610446136\n",
      "Recall = 0.5819354838709677\n"
     ]
    },
    {
     "data": {
      "image/png": "[encoded data removed]",
      "text/plain": [
       "<Figure size 700x700 with 1 Axes>"
      ]
     },
     "metadata": {},
     "output_type": "display_data"
    }
   ],
   "source": [
    "# для начала попробуем сделать все тоже самое что в самом начале, только со случайным лесом и новым порогом в 0.42\n",
    "\n",
    "model = RandomForestClassifier(random_state=42)\n",
    "model.fit(X_train, y_train)\n",
    "\n",
    "p_pred = model.predict_proba(X_test)[:, 1]\n",
    "t = 0.5 # задали порог\n",
    "y_pred = 1*(p_pred >= 0.42) # отсекаем по порогу\n",
    "\n",
    "roc_auc = roc_auc_score(y_test, p_pred)\n",
    "accuracy = accuracy_score(y_test, y_pred)\n",
    "precision = precision_score(y_test, y_pred)\n",
    "recall = recall_score(y_test, y_pred)\n",
    "\n",
    "print(f'ROC-AUC = {roc_auc}', f'Accuracy = {accuracy}', f'Precision = {precision}', f'Recall = {recall}', sep='\\n')\n",
    "\n",
    "def roc_auc_pic(y_test, y_pred):    \n",
    "    fpr_test, tpr_test, thresholds_test = roc_curve(y_test, p_pred)\n",
    "    roc_auc_test = roc_auc_score(y_test, p_pred)\n",
    "\n",
    "    plt.figure(figsize=(7, 7))\n",
    "    plt.plot(fpr_test, tpr_test, label='Test ROC-AUC {0}'.format(roc_auc_test))\n",
    "    plt.plot([0, 1], [0, 1], '--', color=(0.8, 0.8, 0.8))\n",
    "    plt.xlim([0, 1])\n",
    "    plt.ylim([0, 1])\n",
    "    plt.xlabel('False Positive Rate')\n",
    "    plt.ylabel('True Positive Rate')\n",
    "    plt.legend(loc='lower right');\n",
    "    \n",
    "roc_auc_pic(y_test, p_pred)"
   ]
  },
  {
   "cell_type": "code",
   "execution_count": 40,
   "id": "879daab0",
   "metadata": {},
   "outputs": [
    {
     "name": "stdout",
     "output_type": "stream",
     "text": [
      "ROC-AUC = 0.8301001913931099\n",
      "Accuracy = 0.7440191387559809\n",
      "Precision = 0.6822429906542056\n",
      "Recall = 0.7891891891891892\n"
     ]
    },
    {
     "data": {
      "image/png": "[encoded data removed]",
      "text/plain": [
       "<Figure size 700x700 with 1 Axes>"
      ]
     },
     "metadata": {},
     "output_type": "display_data"
    }
   ],
   "source": [
    "# здесь возьмем уже второй тип данных, когда мы применили pivot_table() для выделения трат в каждой категории\n",
    "# заметим огромный скачок результата ROC-AUC\n",
    "\n",
    "model.fit(X_train_new, y_train_new)\n",
    "\n",
    "p_pred_new = model.predict_proba(X_test_new)[:, 1]\n",
    "y_pred_new = 1*(p_pred_new >= 0.42)\n",
    "\n",
    "roc_auc = roc_auc_score(y_test_new, p_pred_new)\n",
    "accuracy = accuracy_score(y_test_new, y_pred_new)\n",
    "precision = precision_score(y_test_new, y_pred_new)\n",
    "recall = recall_score(y_test_new, y_pred_new)\n",
    "\n",
    "print(f'ROC-AUC = {roc_auc}', f'Accuracy = {accuracy}', f'Precision = {precision}', f'Recall = {recall}', sep='\\n')\n",
    "\n",
    "def roc_auc_pic_new(y_test_new, y_pred_new):    \n",
    "    fpr_test_new, tpr_test_new, thresholds_test_new = roc_curve(y_test_new, p_pred_new)\n",
    "    roc_auc_test_new = roc_auc_score(y_test_new, p_pred_new)\n",
    "\n",
    "    plt.figure(figsize=(7, 7))\n",
    "    plt.plot(fpr_test_new, tpr_test_new, label='Test ROC-AUC {0}'.format(roc_auc_test_new))\n",
    "    plt.plot([0, 1], [0, 1], '--', color=(0.8, 0.8, 0.8))\n",
    "    plt.xlim([0, 1])\n",
    "    plt.ylim([0, 1])\n",
    "    plt.xlabel('False Positive Rate')\n",
    "    plt.ylabel('True Positive Rate')\n",
    "    plt.legend(loc='lower right');\n",
    "    \n",
    "    \n",
    "roc_auc_pic_new(y_test_new, p_pred_new)"
   ]
  },
  {
   "cell_type": "code",
   "execution_count": 41,
   "id": "820ec3bd",
   "metadata": {},
   "outputs": [
    {
     "name": "stdout",
     "output_type": "stream",
     "text": [
      "{'max_depth': None, 'max_features': 'log2', 'min_samples_leaf': 4, 'min_samples_split': 10, 'n_estimators': 200}\n",
      "0.8404406946380278\n",
      "ROC-AUC = 0.845943771024243\n",
      "Accuracy = 0.7458133971291866\n",
      "Precision = 0.6666666666666666\n",
      "Recall = 0.8513513513513513\n"
     ]
    },
    {
     "data": {
      "image/png": "[encoded data removed]",
      "text/plain": [
       "<Figure size 700x700 with 1 Axes>"
      ]
     },
     "metadata": {},
     "output_type": "display_data"
    }
   ],
   "source": [
    "# если добавить чуть больше параметров, то увеличим результат практически на 2 единицы\n",
    "# из-за того, что у меня комп железом не вышел, не стал  добавлять слишком много параметров \n",
    "\n",
    "param_grid = {\n",
    "    'n_estimators': [50, 100, 200],\n",
    "    'max_depth': [None, 5, 10],\n",
    "    'max_features': ['sqrt', 'log2', 'auto'],\n",
    "    'min_samples_split': [2, 5, 10],\n",
    "    'min_samples_leaf': [1, 2, 4]\n",
    "}\n",
    "\n",
    "grid_search = GridSearchCV(estimator=model, scoring='roc_auc', param_grid=param_grid, cv=5)\n",
    "grid_search.fit(X_train_scaled, y_train_scaled)\n",
    "\n",
    "print(grid_search.best_params_)\n",
    "print(grid_search.best_score_)\n",
    "\n",
    "best_model = grid_search.best_estimator_\n",
    "\n",
    "p_pred_scaled = grid_search.predict_proba(X_test_scaled)[:, 1]\n",
    "y_pred_scaled = 1*(p_pred_scaled >= 0.42) \n",
    "roc_auc = roc_auc_score(y_test_scaled, p_pred_scaled)\n",
    "accuracy = accuracy_score(y_test_scaled, y_pred_scaled)\n",
    "precision = precision_score(y_test_scaled, y_pred_scaled)\n",
    "recall = recall_score(y_test_scaled, y_pred_scaled)\n",
    "\n",
    "print(f'ROC-AUC = {roc_auc}', f'Accuracy = {accuracy}', f'Precision = {precision}', f'Recall = {recall}', sep='\\n')\n",
    "\n",
    "def roc_auc_pic_new(y_test_scaled, y_pred_scaled):    \n",
    "    fpr_test_new, tpr_test_new, thresholds_test_new = roc_curve(y_test_scaled, p_pred_scaled)\n",
    "    roc_auc_test_new = roc_auc_score(y_test_scaled, p_pred_scaled)\n",
    "\n",
    "    plt.figure(figsize=(7, 7))\n",
    "    plt.plot(fpr_test_new, tpr_test_new, label='Test ROC-AUC {0}'.format(roc_auc_test_new))\n",
    "    plt.plot([0, 1], [0, 1], '--', color=(0.8, 0.8, 0.8))\n",
    "    plt.xlim([0, 1])\n",
    "    plt.ylim([0, 1])\n",
    "    plt.xlabel('False Positive Rate')\n",
    "    plt.ylabel('True Positive Rate')\n",
    "    plt.legend(loc='lower right');\n",
    "    \n",
    "    \n",
    "roc_auc_pic_new(y_test_scaled, p_pred_scaled)"
   ]
  }
 ],
 "metadata": {
  "kernelspec": {
   "display_name": "Python 3 (ipykernel)",
   "language": "python",
   "name": "python3"
  },
  "language_info": {
   "codemirror_mode": {
    "name": "ipython",
    "version": 3
   },
   "file_extension": ".py",
   "mimetype": "text/x-python",
   "name": "python",
   "nbconvert_exporter": "python",
   "pygments_lexer": "ipython3",
   "version": "3.10.9"
  }
 },
 "nbformat": 4,
 "nbformat_minor": 5
}
